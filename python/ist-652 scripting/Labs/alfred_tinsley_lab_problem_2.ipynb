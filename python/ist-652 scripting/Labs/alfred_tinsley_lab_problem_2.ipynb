{
 "cells": [
  {
   "cell_type": "markdown",
   "metadata": {},
   "source": [
    "# Lab 2\n",
    "## by Alfred Nick Tinsley"
   ]
  },
  {
   "cell_type": "markdown",
   "metadata": {},
   "source": [
    "### Instructions\n",
    "\n",
    "LAB TWO:\n",
    "Dictionaries: You may wish to write the code for parts a–d in one Python file.\n",
    "\n",
    "Consider the following two dictionaries:\n",
    "\n",
    "    stock = {\"banana\": 6, \"apple\": 0, \"orange\": 32, \"pear\": 15}\n",
    "    \n",
    "    prices = {\"banana\": 4, \"apple\": 2, \"orange\": 1.5, \"pear\": 3}\n",
    "\n",
    "    a. Show the expression that gets the value of the stock dictionary at the key ‘orange’. Show a\n",
    "    statement that adds an item to the stock dictionary called ‘cherry’ with some integer value and\n",
    "    that adds ‘cherry’ to the prices dictionary with a numeric value. (Or pick your own fruit name.)\n",
    "\n",
    "    b. Write the code for a loop that iterates over the stock dictionary and prints each key and value.\n",
    "\n",
    "    c. Suppose that we have a list:\n",
    "    groceries = [‘apple’, ‘banana’, ‘pear’]\n",
    "    Write the code that will sum the total number in stock of the items in the groceries list.\n",
    "\n",
    "    d. Write the code that can print out the total value in stock of all the items. This program can\n",
    "    iterate over the stock dictionary and for each item multiply the number in stock times the price\n",
    "    of that item in the prices dictionary. (This can include the items for ‘cherry’ or not, as you\n",
    "    choose.)\n",
    "\n",
    "\n",
    "Submit your code and the output of your program. Submit assignment as a .txt, .py, .pdf, or\n",
    "jupyter notebook file.\n",
    "Due 24 hours before the live session in Week 4. "
   ]
  },
  {
   "cell_type": "code",
   "execution_count": 1,
   "metadata": {},
   "outputs": [],
   "source": [
    "##init dictionaries\n",
    "\n",
    "stock = {\"banana\": 6, \"apple\": 0, \"orange\": 32, \"pear\": 15}\n",
    "prices = {\"banana\": 4, \"apple\": 2, \"orange\": 1.5, \"pear\": 3}"
   ]
  },
  {
   "cell_type": "markdown",
   "metadata": {},
   "source": [
    "a. Show the expression that gets the value of the stock dictionary at the key ‘orange’. Show a\n",
    "    statement that adds an item to the stock dictionary called ‘cherry’ with some integer value and\n",
    "    that adds ‘cherry’ to the prices dictionary with a numeric value. (Or pick your own fruit name.)"
   ]
  },
  {
   "cell_type": "code",
   "execution_count": 6,
   "metadata": {},
   "outputs": [
    {
     "name": "stdout",
     "output_type": "stream",
     "text": [
      "Stock price for Orange is 32 \n"
     ]
    }
   ],
   "source": [
    "#print orange stock price\n",
    "print(f\"Stock price for Orange is {stock.get('orange'):.0f} \")\n",
    "\n",
    "\n",
    "#add new fruit to list\n",
    "stock[\"watermelon\"] = 42\n",
    "prices[\"watermelon\"] = 2.5"
   ]
  },
  {
   "cell_type": "markdown",
   "metadata": {},
   "source": [
    "b. Write the code for a loop that iterates over the stock dictionary and prints each key and value."
   ]
  },
  {
   "cell_type": "code",
   "execution_count": 7,
   "metadata": {},
   "outputs": [
    {
     "name": "stdout",
     "output_type": "stream",
     "text": [
      "banana 6\n",
      "apple 0\n",
      "orange 32\n",
      "pear 15\n",
      "watermelon 42\n"
     ]
    }
   ],
   "source": [
    "for key in stock:\n",
    "    print(key, stock[key])"
   ]
  },
  {
   "cell_type": "markdown",
   "metadata": {},
   "source": [
    "c. Suppose that we have a list:\n",
    "    groceries = [‘apple’, ‘banana’, ‘pear’]\n",
    "    Write the code that will sum the total number in stock of the items in the groceries list."
   ]
  },
  {
   "cell_type": "code",
   "execution_count": 22,
   "metadata": {},
   "outputs": [
    {
     "name": "stdout",
     "output_type": "stream",
     "text": [
      "Total Sum of groceries in stock is 21\n"
     ]
    }
   ],
   "source": [
    "groceries =['apple', 'banana', 'pear']\n",
    "\n",
    "ttl = 0\n",
    "\n",
    "for item in groceries:\n",
    "    for key in stock:\n",
    "        if item == key:\n",
    "            ttl += stock[key]\n",
    "\n",
    "#refactored\n",
    "for item in groceries:\n",
    "    if item == stock[item]:\n",
    "        print(item)\n",
    "\n",
    "print(f'Total Sum of groceries in stock is {ttl:.0f}')"
   ]
  },
  {
   "cell_type": "markdown",
   "metadata": {},
   "source": [
    "d. Write the code that can print out the total value in stock of all the items. This program can\n",
    "    iterate over the stock dictionary and for each item multiply the number in stock times the price\n",
    "    of that item in the prices dictionary. (This can include the items for ‘cherry’ or not, as you\n",
    "    choose.)\n"
   ]
  },
  {
   "cell_type": "code",
   "execution_count": 18,
   "metadata": {},
   "outputs": [
    {
     "name": "stdout",
     "output_type": "stream",
     "text": [
      "banana value is $24.00\n",
      "apple value is $0.00\n",
      "orange value is $48.00\n",
      "pear value is $45.00\n",
      "watermelon value is $105.00\n",
      "Total value of all Stock Prices is $222.00\n"
     ]
    }
   ],
   "source": [
    "ttl_value = 0\n",
    "\n",
    "for key in stock:\n",
    "    print(f'{key :s} value is ${stock[key] * prices.get(key):.2f}')\n",
    "    ttl_value += stock[key] * prices.get(key)\n",
    "\n",
    "print(f'Total value of all Stock Prices is ${ttl_value:.2f}')"
   ]
  }
 ],
 "metadata": {
  "interpreter": {
   "hash": "c236fdc6bf382f7a4904d615b2c2d59dd399c4100baf8f3f73b16694efcbae7c"
  },
  "kernelspec": {
   "display_name": "Python 3.8.8 64-bit ('base': conda)",
   "language": "python",
   "name": "python3"
  },
  "language_info": {
   "codemirror_mode": {
    "name": "ipython",
    "version": 3
   },
   "file_extension": ".py",
   "mimetype": "text/x-python",
   "name": "python",
   "nbconvert_exporter": "python",
   "pygments_lexer": "ipython3",
   "version": "3.8.8"
  },
  "orig_nbformat": 4
 },
 "nbformat": 4,
 "nbformat_minor": 2
}
