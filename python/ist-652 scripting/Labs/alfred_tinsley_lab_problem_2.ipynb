{
 "cells": [
  {
   "cell_type": "markdown",
   "metadata": {},
   "source": [
    "# Lab 2\n",
    "## by Alfred Nick Tinsley"
   ]
  },
  {
   "cell_type": "markdown",
   "metadata": {},
   "source": [
    "### Instructions\n",
    "\n",
    "LAB TWO:\n",
    "Dictionaries: You may wish to write the code for parts a–d in one Python file.\n",
    "\n",
    "Consider the following two dictionaries:\n",
    "\n",
    "    stock = {\"banana\": 6, \"apple\": 0, \"orange\": 32, \"pear\": 15}\n",
    "    \n",
    "    prices = {\"banana\": 4, \"apple\": 2, \"orange\": 1.5, \"pear\": 3}\n",
    "\n",
    "    a. Show the expression that gets the value of the stock dictionary at the key ‘orange’. Show a\n",
    "    statement that adds an item to the stock dictionary called ‘cherry’ with some integer value and\n",
    "    that adds ‘cherry’ to the prices dictionary with a numeric value. (Or pick your own fruit name.)\n",
    "\n",
    "    b. Write the code for a loop that iterates over the stock dictionary and prints each key and value.\n",
    "\n",
    "    c. Suppose that we have a list:\n",
    "    groceries = [‘apple’, ‘banana’, ‘pear’]\n",
    "    Write the code that will sum the total number in stock of the items in the groceries list.\n",
    "\n",
    "    d. Write the code that can print out the total value in stock of all the items. This program can\n",
    "    iterate over the stock dictionary and for each item multiply the number in stock times the price\n",
    "    of that item in the prices dictionary. (This can include the items for ‘cherry’ or not, as you\n",
    "    choose.)\n",
    "\n",
    "\n",
    "Submit your code and the output of your program. Submit assignment as a .txt, .py, .pdf, or\n",
    "jupyter notebook file.\n",
    "Due 24 hours before the live session in Week 4. "
   ]
  },
  {
   "cell_type": "code",
   "execution_count": null,
   "metadata": {},
   "outputs": [],
   "source": []
  }
 ],
 "metadata": {
  "language_info": {
   "name": "python"
  },
  "orig_nbformat": 4
 },
 "nbformat": 4,
 "nbformat_minor": 2
}
