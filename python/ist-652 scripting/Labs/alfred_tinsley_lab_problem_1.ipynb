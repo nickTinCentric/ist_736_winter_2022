{
 "cells": [
  {
   "cell_type": "markdown",
   "metadata": {},
   "source": [
    "# IST-652 Lab One\n",
    "## by Alfred Nick Tinsley"
   ]
  },
  {
   "cell_type": "markdown",
   "metadata": {},
   "source": [
    "### Lab Instructions\n",
    "\n",
    "LAB ONE:\n",
    "For the NBAfile.py program, for each line, create a string using string formatting that puts the\n",
    "team, attendance, and ticket prices into a formatted string. Each line should look something like:\n",
    "‘The attendance at Atlanta was 13993 and the ticket price was $20.06’\n",
    "Your program should then print these strings instead of the lines. Submit your code and the\n",
    "output of your program. Submit assignment as a .txt, .py, .pdf, or jupyter notebook file.\n",
    "\n",
    "DUE 24 hours before the live session in Week 3."
   ]
  },
  {
   "cell_type": "code",
   "execution_count": 1,
   "metadata": {},
   "outputs": [],
   "source": [
    "#import os \n",
    "import os\n",
    "\n",
    "#get working directory\n",
    "#this was to help me debug where my working directory was and where to place the data file\n",
    "# myWd = os.getcwd()\n",
    "# print(myWd)\n",
    "\n",
    "#read data file\n",
    "nbaData = open(\"nba-attendance-1989.txt\", \"r\")\n",
    "\n",
    "# init blank list\n",
    "teamList = []"
   ]
  },
  {
   "cell_type": "code",
   "execution_count": 2,
   "metadata": {},
   "outputs": [
    {
     "name": "stdout",
     "output_type": "stream",
     "text": [
      "27\n"
     ]
    }
   ],
   "source": [
    "#go through each line of code and strip each line, then strip each word out of the line, append word to list\n",
    "for line in nbaData:\n",
    "    textLine = line.strip()\n",
    "\n",
    "    item = textLine.split()\n",
    "\n",
    "    teamList.append(item)\n",
    "\n",
    "print(len(teamList))\n",
    "\n",
    "stringList = []"
   ]
  },
  {
   "cell_type": "code",
   "execution_count": 4,
   "metadata": {},
   "outputs": [
    {
     "name": "stdout",
     "output_type": "stream",
     "text": [
      "The attendace at Atlanta was 13993 and the ticket prices was 20.06\n",
      "The attendace at Boston was 14916 and the ticket prices was 22.54\n",
      "The attendace at Charlotte was 23901 and the ticket prices was 17.00\n",
      "The attendace at Chicago was 18404 and the ticket prices was 21.98\n",
      "The attendace at Cleveland was 16969 and the ticket prices was 19.63\n",
      "The attendace at Dallas was 16868 and the ticket prices was 17.05\n",
      "The attendace at Denver was 12668 and the ticket prices was 17.40\n",
      "The attendace at Detroit was 21454 and the ticket prices was 24.42\n",
      "The attendace at Golden_State was 15025 and the ticket prices was 17.04\n",
      "The attendace at Houston was 15846 and the ticket prices was 17.56\n",
      "The attendace at Indiana was 12885 and the ticket prices was 13.77\n",
      "The attendace at LA_Clippers was 11869 and the ticket prices was 21.95\n",
      "The attendace at LA_Lakers was 17378 and the ticket prices was 29.18\n",
      "The attendace at Miami was 15008 and the ticket prices was 17.60\n",
      "The attendace at Milwaukee was 16088 and the ticket prices was 14.08\n",
      "The attendace at Minnesota was 26160 and the ticket prices was 10.92\n",
      "The attendace at New_Jersey was 12160 and the ticket prices was 13.31\n",
      "The attendace at New_York was 17815 and the ticket prices was 22.70\n",
      "The attendace at Orlando was 15606 and the ticket prices was 20.47\n",
      "The attendace at Philadelphia was 14017 and the ticket prices was 19.04\n",
      "The attendace at Phoenix was 14114 and the ticket prices was 16.59\n",
      "The attendace at Portland was 12884 and the ticket prices was 22.19\n",
      "The attendace at Sacramento was 17014 and the ticket prices was 16.96\n",
      "The attendace at San_Antonio was 14722 and the ticket prices was 16.79\n",
      "The attendace at Seattle was 12244 and the ticket prices was 18.11\n",
      "The attendace at Utah was 12616 and the ticket prices was 18.41\n",
      "The attendace at Washington was 11565 and the ticket prices was 14.55\n"
     ]
    }
   ],
   "source": [
    "# Each line should look something like:\n",
    "# ‘The attendance at Atlanta was 13993 and the ticket price was $20.06’\n",
    "\n",
    "## format string\n",
    "## iterate through each sublist and print output in correct format and place into stringList\n",
    "for i in teamList:\n",
    "    #print(\"The attendance at \"+ i[0] + \" was \" + i[1] + \" and the ticket price was \"+\"$\"+i[2])\n",
    "    #print(f\"The attendace at {i[0]:s} was {i[1]:s} and the ticket prices was {i[2]:s}\")\n",
    "    print(\"The attendace at {:s} was {:s} and the ticket prices was {:.2f}\".format(i[0], i[1], float(i[2])))\n",
    "\n",
    "\n"
   ]
  }
 ],
 "metadata": {
  "interpreter": {
   "hash": "c236fdc6bf382f7a4904d615b2c2d59dd399c4100baf8f3f73b16694efcbae7c"
  },
  "kernelspec": {
   "display_name": "Python 3.8.8 64-bit ('base': conda)",
   "language": "python",
   "name": "python3"
  },
  "language_info": {
   "codemirror_mode": {
    "name": "ipython",
    "version": 3
   },
   "file_extension": ".py",
   "mimetype": "text/x-python",
   "name": "python",
   "nbconvert_exporter": "python",
   "pygments_lexer": "ipython3",
   "version": "3.8.8"
  },
  "orig_nbformat": 4
 },
 "nbformat": 4,
 "nbformat_minor": 2
}
