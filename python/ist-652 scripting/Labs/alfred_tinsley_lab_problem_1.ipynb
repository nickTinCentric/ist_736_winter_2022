{
 "cells": [
  {
   "cell_type": "markdown",
   "metadata": {},
   "source": [
    "# IST-652 Lab One\n",
    "## by Alfred Nick Tinsley"
   ]
  },
  {
   "cell_type": "markdown",
   "metadata": {},
   "source": [
    "### Lab Instructions\n",
    "\n",
    "LAB ONE:\n",
    "For the NBAfile.py program, for each line, create a string using string formatting that puts the\n",
    "team, attendance, and ticket prices into a formatted string. Each line should look something like:\n",
    "‘The attendance at Atlanta was 13993 and the ticket price was $20.06’\n",
    "Your program should then print these strings instead of the lines. Submit your code and the\n",
    "output of your program. Submit assignment as a .txt, .py, .pdf, or jupyter notebook file.\n",
    "\n",
    "DUE 24 hours before the live session in Week 3."
   ]
  },
  {
   "cell_type": "code",
   "execution_count": 13,
   "metadata": {},
   "outputs": [],
   "source": [
    "#import os \n",
    "import os\n",
    "\n",
    "#get working directory\n",
    "#this was to help me debug where my working directory was and where to place the data file\n",
    "# myWd = os.getcwd()\n",
    "# print(myWd)\n",
    "\n",
    "#read data file\n",
    "nbaData = open(\"nba-attendance-1989.txt\", \"r\")\n",
    "\n",
    "# init blank list\n",
    "teamList = []"
   ]
  },
  {
   "cell_type": "code",
   "execution_count": 17,
   "metadata": {},
   "outputs": [
    {
     "name": "stdout",
     "output_type": "stream",
     "text": [
      "27\n"
     ]
    }
   ],
   "source": [
    "#go through each line of code and strip each line, then strip each word out of the line, append word to list\n",
    "for line in nbaData:\n",
    "    textLine = line.strip()\n",
    "\n",
    "    item = textLine.split()\n",
    "\n",
    "    teamList.append(item)\n",
    "\n",
    "print(len(teamList))\n",
    "\n",
    "stringList = []"
   ]
  },
  {
   "cell_type": "code",
   "execution_count": 27,
   "metadata": {},
   "outputs": [
    {
     "name": "stdout",
     "output_type": "stream",
     "text": [
      "The attendance at Atlanta was 13993 and the ticket price was $20.06\n",
      "The attendance at Boston was 14916 and the ticket price was $22.54\n",
      "The attendance at Charlotte was 23901 and the ticket price was $17\n",
      "The attendance at Chicago was 18404 and the ticket price was $21.98\n",
      "The attendance at Cleveland was 16969 and the ticket price was $19.63\n",
      "The attendance at Dallas was 16868 and the ticket price was $17.05\n",
      "The attendance at Denver was 12668 and the ticket price was $17.4\n",
      "The attendance at Detroit was 21454 and the ticket price was $24.42\n",
      "The attendance at Golden_State was 15025 and the ticket price was $17.04\n",
      "The attendance at Houston was 15846 and the ticket price was $17.56\n",
      "The attendance at Indiana was 12885 and the ticket price was $13.77\n",
      "The attendance at LA_Clippers was 11869 and the ticket price was $21.95\n",
      "The attendance at LA_Lakers was 17378 and the ticket price was $29.18\n",
      "The attendance at Miami was 15008 and the ticket price was $17.6\n",
      "The attendance at Milwaukee was 16088 and the ticket price was $14.08\n",
      "The attendance at Minnesota was 26160 and the ticket price was $10.92\n",
      "The attendance at New_Jersey was 12160 and the ticket price was $13.31\n",
      "The attendance at New_York was 17815 and the ticket price was $22.7\n",
      "The attendance at Orlando was 15606 and the ticket price was $20.47\n",
      "The attendance at Philadelphia was 14017 and the ticket price was $19.04\n",
      "The attendance at Phoenix was 14114 and the ticket price was $16.59\n",
      "The attendance at Portland was 12884 and the ticket price was $22.19\n",
      "The attendance at Sacramento was 17014 and the ticket price was $16.96\n",
      "The attendance at San_Antonio was 14722 and the ticket price was $16.79\n",
      "The attendance at Seattle was 12244 and the ticket price was $18.11\n",
      "The attendance at Utah was 12616 and the ticket price was $18.41\n",
      "The attendance at Washington was 11565 and the ticket price was $14.55\n"
     ]
    }
   ],
   "source": [
    "# Each line should look something like:\n",
    "# ‘The attendance at Atlanta was 13993 and the ticket price was $20.06’\n",
    "\n",
    "## format string\n",
    "## iterate through each sublist and print output in correct format and place into stringList\n",
    "for i in teamList:\n",
    "    print(\"The attendance at \"+ i[0] + \" was \" + i[1] + \" and the ticket price was \"+\"$\"+i[2])\n",
    "\n",
    "\n"
   ]
  }
 ],
 "metadata": {
  "interpreter": {
   "hash": "c236fdc6bf382f7a4904d615b2c2d59dd399c4100baf8f3f73b16694efcbae7c"
  },
  "kernelspec": {
   "display_name": "Python 3.8.8 64-bit ('base': conda)",
   "language": "python",
   "name": "python3"
  },
  "language_info": {
   "codemirror_mode": {
    "name": "ipython",
    "version": 3
   },
   "file_extension": ".py",
   "mimetype": "text/x-python",
   "name": "python",
   "nbconvert_exporter": "python",
   "pygments_lexer": "ipython3",
   "version": "3.8.8"
  },
  "orig_nbformat": 4
 },
 "nbformat": 4,
 "nbformat_minor": 2
}
