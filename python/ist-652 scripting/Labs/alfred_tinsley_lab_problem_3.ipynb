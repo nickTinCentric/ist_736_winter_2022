{
 "cells": [
  {
   "cell_type": "markdown",
   "metadata": {},
   "source": [
    "# LAB ACTIVITY THREE: Working with FUNCTIONS.\n",
    "## by Alfred Nick Tinsley\n",
    "\n",
    "### Problem 1:\n",
    "Write a Python function to multiply all the numbers in a list.\n",
    "\n",
    "Sample List : (8, 2, 3, -1, 7)\n",
    "\n",
    "Expected Output : -336\n",
    "\n",
    "Execute the function with at least 3 different lists of numbers.\n",
    "\n"
   ]
  },
  {
   "cell_type": "code",
   "execution_count": 25,
   "metadata": {},
   "outputs": [
    {
     "name": "stdout",
     "output_type": "stream",
     "text": [
      "-336\n",
      "189200\n",
      "1680\n",
      "144\n"
     ]
    }
   ],
   "source": [
    "def multiply_list(numList):\n",
    "    retVal = None\n",
    "    for num in numList:\n",
    "        if retVal == None:\n",
    "            retVal = num\n",
    "        else:\n",
    "            retVal = retVal * num\n",
    "    return retVal\n",
    "\n",
    "\n",
    "myList = (8,2,3,-1,7)\n",
    "myList2 = (44,2,43,10,5)\n",
    "myList3 = (10,2,-12,-1,7)\n",
    "\n",
    "print(multiply_list(myList))\n",
    "print(multiply_list(myList2))\n",
    "# print(44 * 2 * 43 * 10 * 5 ) ## fact checker\n",
    "print(multiply_list(myList3))\n",
    "# print(10*2*-12*-1*7)\n",
    "print(multiply_list([12,12]))"
   ]
  },
  {
   "cell_type": "markdown",
   "metadata": {},
   "source": [
    "### Problem 2:\n",
    "\n",
    "Write a Python function that accepts a string and calculate the number of upper\n",
    "case letters and lower case letters.\n",
    "\n",
    "Sample String : 'The quick Brown Fox’\n",
    "\n",
    "Execute the function with at least 2 different phrases.\n",
    "\n",
    "Submit your code for Problem 1 and 2, along with your output from the running\n",
    "of your code in both Problem 1 and Problem 2, in a Word document.\n",
    "Due 24 hours before the live session in Week 7."
   ]
  },
  {
   "cell_type": "code",
   "execution_count": 21,
   "metadata": {},
   "outputs": [
    {
     "name": "stdout",
     "output_type": "stream",
     "text": [
      "For the phrase: The quick Brown Fox\n",
      "Upper Case Count: 3\n",
      "Lower Case Count: 13\n",
      "\n",
      "For the phrase: May the Force be with You\n",
      "Upper Case Count: 3\n",
      "Lower Case Count: 17\n",
      "\n",
      "For the phrase: May the Swartz be with You!\n",
      "Upper Case Count: 3\n",
      "Lower Case Count: 18\n",
      "\n",
      "For the phrase: I am having fun with Python, aren't you?\n",
      "Upper Case Count: 2\n",
      "Lower Case Count: 28\n",
      "\n"
     ]
    }
   ],
   "source": [
    "def letter_counter(x):\n",
    "    upper_count = 0\n",
    "    lower_count = 0\n",
    "    for i in x:\n",
    "        if i.isupper():\n",
    "            upper_count += 1\n",
    "        elif i.islower():\n",
    "            lower_count += 1\n",
    "    print(f\"For the phrase: {x:s}\")\n",
    "    print(f\"Upper Case Count: {upper_count:.0f}\")\n",
    "    print(f\"Lower Case Count: {lower_count:.0f}\")\n",
    "    print()\n",
    "\n",
    "\n",
    "sample_string = 'The quick Brown Fox'  ### 3 capital, 13 lower\n",
    "sample_string2 = \"May the Force be with You\"\n",
    "sample_string3 = \"May the Swartz be with You!\"\n",
    "sample_string4 = \"I am having fun with Python, aren't you?\"\n",
    "\n",
    "\n",
    "\n",
    "letter_counter(sample_string)\n",
    "letter_counter(sample_string2)\n",
    "letter_counter(sample_string3)\n",
    "letter_counter(sample_string4)\n",
    "\n"
   ]
  }
 ],
 "metadata": {
  "interpreter": {
   "hash": "c236fdc6bf382f7a4904d615b2c2d59dd399c4100baf8f3f73b16694efcbae7c"
  },
  "kernelspec": {
   "display_name": "Python 3.8.8 64-bit ('base': conda)",
   "language": "python",
   "name": "python3"
  },
  "language_info": {
   "codemirror_mode": {
    "name": "ipython",
    "version": 3
   },
   "file_extension": ".py",
   "mimetype": "text/x-python",
   "name": "python",
   "nbconvert_exporter": "python",
   "pygments_lexer": "ipython3",
   "version": "3.8.8"
  },
  "orig_nbformat": 4
 },
 "nbformat": 4,
 "nbformat_minor": 2
}
