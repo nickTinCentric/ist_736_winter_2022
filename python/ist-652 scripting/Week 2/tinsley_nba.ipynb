{
 "cells": [
  {
   "cell_type": "markdown",
   "metadata": {},
   "source": [
    "\n",
    "Take the example I demonstrated in the previous lecture (NBA attendance), write your own program to read the data, store in a list, strip the white space, and display your results.\n",
    "\n",
    "Submit your program code and the results you got in a text file.\n",
    "\n",
    "The data file NBA-Attendance-1989.txt is attached here."
   ]
  },
  {
   "cell_type": "code",
   "execution_count": 10,
   "metadata": {},
   "outputs": [],
   "source": [
    "#read data\n",
    "\n",
    "nbaData = open(\"NBA-Attendance-1989.txt\", \"r\")\n",
    "\n",
    "# init blank list\n",
    "teamList = []"
   ]
  },
  {
   "cell_type": "code",
   "execution_count": 11,
   "metadata": {},
   "outputs": [
    {
     "name": "stdout",
     "output_type": "stream",
     "text": [
      "27\n"
     ]
    }
   ],
   "source": [
    "\n",
    "\n",
    "\n",
    "#go through each line of code and strip each line, then strip each word out of the line, append word to list\n",
    "for line in nbaData:\n",
    "    textLine = line.strip()\n",
    "\n",
    "    item = textLine.split()\n",
    "\n",
    "    teamList.append(item)\n",
    "\n",
    "print(len(teamList))"
   ]
  },
  {
   "cell_type": "code",
   "execution_count": 12,
   "metadata": {},
   "outputs": [
    {
     "name": "stdout",
     "output_type": "stream",
     "text": [
      "['Atlanta', '13993', '20.06']\n",
      "['Boston', '14916', '22.54']\n",
      "['Charlotte', '23901', '17']\n",
      "['Chicago', '18404', '21.98']\n",
      "['Cleveland', '16969', '19.63']\n",
      "['Dallas', '16868', '17.05']\n",
      "['Denver', '12668', '17.4']\n",
      "['Detroit', '21454', '24.42']\n",
      "['Golden_State', '15025', '17.04']\n",
      "['Houston', '15846', '17.56']\n",
      "['Indiana', '12885', '13.77']\n",
      "['LA_Clippers', '11869', '21.95']\n",
      "['LA_Lakers', '17378', '29.18']\n",
      "['Miami', '15008', '17.6']\n",
      "['Milwaukee', '16088', '14.08']\n",
      "['Minnesota', '26160', '10.92']\n",
      "['New_Jersey', '12160', '13.31']\n",
      "['New_York', '17815', '22.7']\n",
      "['Orlando', '15606', '20.47']\n",
      "['Philadelphia', '14017', '19.04']\n",
      "['Phoenix', '14114', '16.59']\n",
      "['Portland', '12884', '22.19']\n",
      "['Sacramento', '17014', '16.96']\n",
      "['San_Antonio', '14722', '16.79']\n",
      "['Seattle', '12244', '18.11']\n",
      "['Utah', '12616', '18.41']\n",
      "['Washington', '11565', '14.55']\n"
     ]
    }
   ],
   "source": [
    "# print out each line item in the list\n",
    "for i in teamList:\n",
    "    print(i)"
   ]
  },
  {
   "cell_type": "code",
   "execution_count": 1,
   "metadata": {},
   "outputs": [
    {
     "ename": "NameError",
     "evalue": "name 'nbaData' is not defined",
     "output_type": "error",
     "traceback": [
      "\u001b[1;31m---------------------------------------------------------------------------\u001b[0m",
      "\u001b[1;31mNameError\u001b[0m                                 Traceback (most recent call last)",
      "\u001b[1;32m<ipython-input-1-3250910090bb>\u001b[0m in \u001b[0;36m<module>\u001b[1;34m\u001b[0m\n\u001b[1;32m----> 1\u001b[1;33m \u001b[0mnbaData\u001b[0m\u001b[1;33m.\u001b[0m\u001b[0mclose\u001b[0m\u001b[1;33m(\u001b[0m\u001b[1;33m)\u001b[0m\u001b[1;33m\u001b[0m\u001b[1;33m\u001b[0m\u001b[0m\n\u001b[0m",
      "\u001b[1;31mNameError\u001b[0m: name 'nbaData' is not defined"
     ]
    }
   ],
   "source": [
    "nbaData.close()"
   ]
  }
 ],
 "metadata": {
  "interpreter": {
   "hash": "c236fdc6bf382f7a4904d615b2c2d59dd399c4100baf8f3f73b16694efcbae7c"
  },
  "kernelspec": {
   "display_name": "Python 3.8.8 64-bit ('base': conda)",
   "language": "python",
   "name": "python3"
  },
  "language_info": {
   "codemirror_mode": {
    "name": "ipython",
    "version": 3
   },
   "file_extension": ".py",
   "mimetype": "text/x-python",
   "name": "python",
   "nbconvert_exporter": "python",
   "pygments_lexer": "ipython3",
   "version": "3.8.8"
  },
  "orig_nbformat": 4
 },
 "nbformat": 4,
 "nbformat_minor": 2
}
