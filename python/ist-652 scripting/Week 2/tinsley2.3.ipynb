{
 "cells": [
  {
   "cell_type": "markdown",
   "metadata": {},
   "source": [
    "Create a sequence of items in Python. The sequence should include at least five items. Identify the length of the tuple and list the items in your tuple using Python.\n",
    "\n",
    "Capture the commands you used and the results you got in a text document and submit it here.\n",
    "\n",
    "Look at some of your classmates' examples to see what they did."
   ]
  },
  {
   "cell_type": "code",
   "execution_count": 1,
   "metadata": {},
   "outputs": [
    {
     "name": "stdout",
     "output_type": "stream",
     "text": [
      "9\n"
     ]
    }
   ],
   "source": [
    "#build sequence of items\n",
    "myTeam = ('chris', 'nick', 'daren','julien','pryia','ray', 'chris', 'paul', 'ntin')\n",
    "\n",
    "#find lenght of tuple\n",
    "print(len(myTeam))"
   ]
  },
  {
   "cell_type": "code",
   "execution_count": 2,
   "metadata": {},
   "outputs": [
    {
     "name": "stdout",
     "output_type": "stream",
     "text": [
      "chris\n",
      "nick\n",
      "daren\n",
      "julien\n",
      "pryia\n",
      "ray\n",
      "chris\n",
      "paul\n",
      "ntin\n"
     ]
    }
   ],
   "source": [
    "#list tuple out\n",
    "for mate in myTeam:\n",
    "    print(mate)"
   ]
  }
 ],
 "metadata": {
  "interpreter": {
   "hash": "c236fdc6bf382f7a4904d615b2c2d59dd399c4100baf8f3f73b16694efcbae7c"
  },
  "kernelspec": {
   "display_name": "Python 3.8.8 64-bit ('base': conda)",
   "language": "python",
   "name": "python3"
  },
  "language_info": {
   "codemirror_mode": {
    "name": "ipython",
    "version": 3
   },
   "file_extension": ".py",
   "mimetype": "text/x-python",
   "name": "python",
   "nbconvert_exporter": "python",
   "pygments_lexer": "ipython3",
   "version": "3.8.8"
  },
  "orig_nbformat": 4
 },
 "nbformat": 4,
 "nbformat_minor": 2
}
