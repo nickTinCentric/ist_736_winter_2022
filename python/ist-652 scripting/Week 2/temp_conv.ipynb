{
 "cells": [
  {
   "cell_type": "code",
   "execution_count": 2,
   "metadata": {},
   "outputs": [
    {
     "name": "stdout",
     "output_type": "stream",
     "text": [
      "Welcome  nick\n",
      "Hello again nick\n",
      "You entered 0.0 celcius\n",
      "Your Temp in Fahrenheight 32.0\n"
     ]
    }
   ],
   "source": [
    "# input name and temp in celcius\n",
    "name = input(\"Please input your name: \")\n",
    "print(\"Welcome \", name)\n",
    "\n",
    "tempC = input(\"Please input temperature in Celcius: \")\n",
    "\n",
    "try:\n",
    "    tempC = float(tempC)\n",
    "except:\n",
    "    print(\"please enter in temperature in numeric\")\n",
    "\n",
    "tempF = (9/5 * tempC) +32\n",
    "\n",
    "print(\"Hello again\", name)\n",
    "print(\"You entered\", tempC , \"celcius\")\n",
    "print(\"Your Temp in Fahrenheight\", tempF)\n"
   ]
  }
 ],
 "metadata": {
  "interpreter": {
   "hash": "c236fdc6bf382f7a4904d615b2c2d59dd399c4100baf8f3f73b16694efcbae7c"
  },
  "kernelspec": {
   "display_name": "Python 3.8.8 64-bit ('base': conda)",
   "language": "python",
   "name": "python3"
  },
  "language_info": {
   "codemirror_mode": {
    "name": "ipython",
    "version": 3
   },
   "file_extension": ".py",
   "mimetype": "text/x-python",
   "name": "python",
   "nbconvert_exporter": "python",
   "pygments_lexer": "ipython3",
   "version": "3.8.8"
  },
  "orig_nbformat": 4
 },
 "nbformat": 4,
 "nbformat_minor": 2
}
