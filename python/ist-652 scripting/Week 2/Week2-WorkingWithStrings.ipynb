{
 "cells": [
  {
   "cell_type": "code",
   "execution_count": null,
   "metadata": {},
   "outputs": [],
   "source": [
    "# Python3 code to demonstrate  \n",
    "# to count words in string  \n",
    "# using split() \n",
    "  \n",
    "# initializing string   \n",
    "test_string = \"Geeksforgeeks is best Computer Science Portal\"\n",
    "  \n",
    "# printing original string \n",
    "print (\"The original string is : \" +  test_string) \n",
    "  \n",
    "# using split() \n",
    "# to count words in string \n",
    "res = len(test_string.split()) \n",
    "  \n",
    "# printing result \n",
    "print (\"The number of words in string are : \" +  str(res)) "
   ]
  },
  {
   "cell_type": "code",
   "execution_count": null,
   "metadata": {},
   "outputs": [],
   "source": [
    "# Python3 code to demonstrate  \n",
    "# to count words in string  \n",
    "# using regex (findall()) \n",
    "import re \n",
    "  \n",
    "# initializing string   \n",
    "test_string = \"Geeksforgeeks,    is best @# Computer Science Portal.!!!\"\n",
    "  \n",
    "# printing original string \n",
    "print (\"The original string is : \" +  test_string) \n",
    "  \n",
    "# using regex (findall()) \n",
    "# to count words in string \n",
    "res = len(re.findall(r'\\w+', test_string)) \n",
    "  \n",
    "# printing result \n",
    "print (\"The number of words in string are : \" +  str(res)) \n"
   ]
  },
  {
   "cell_type": "code",
   "execution_count": null,
   "metadata": {},
   "outputs": [],
   "source": [
    "# Python3 code to demonstrate  \n",
    "# to count words in string  \n",
    "# using sum() + strip() + split() \n",
    "import string \n",
    "  \n",
    "# initializing string   \n",
    "test_string = \"Geeksforgeeks,    is best @# Computer Science Portal.!!!\"\n",
    "  \n",
    "# printing original string \n",
    "print (\"The original string is : \" +  test_string) \n",
    "  \n",
    "# using sum() + strip() + split() \n",
    "stst = test_string.split()\n",
    "print('Result of split:  ',stst)\n",
    "\n",
    "spunc = [i.strip(string.punctuation).isalpha() for i in test_string.split()]\n",
    "print('Result of strip testing for string:  ',spunc)\n",
    "\n",
    "spunc2 = [i.strip(string.punctuation) for i in test_string.split()]\n",
    "print('Result of strip:  ',spunc2)\n",
    "\n",
    "# to count words in string \n",
    "res = sum([i.strip(string.punctuation).isalpha() for i in test_string.split()]) \n",
    "  \n",
    "# printing result \n",
    "print (\"The number of words in string are : \" +  str(res)) "
   ]
  },
  {
   "cell_type": "code",
   "execution_count": null,
   "metadata": {},
   "outputs": [],
   "source": [
    "a = \"\"\"Lorem ipsum dolor sit amet,\n",
    "consectetur adipiscing elit,\n",
    "sed do eiusmod tempor incididunt\n",
    "ut labore et dolore magna aliqua.\"\"\"\n",
    "print(a)"
   ]
  },
  {
   "cell_type": "code",
   "execution_count": null,
   "metadata": {},
   "outputs": [],
   "source": [
    "txt = \"The best things in life are free!\"\n",
    "print(\"free\" in txt)\n",
    "\n",
    "txt = \"The best things in life are free!\"\n",
    "if \"free\" in txt:\n",
    "  print(\"Yes, 'free' is present.\")"
   ]
  },
  {
   "cell_type": "code",
   "execution_count": null,
   "metadata": {},
   "outputs": [],
   "source": [
    "txt = \"The best things in life are free!\"\n",
    "print(\"expensive\" not in txt)\n",
    "\n",
    "txt = \"The best things in life are free!\"\n",
    "if \"expensive\" not in txt:\n",
    "  print(\"No, 'expensive' is NOT present.\")\n"
   ]
  },
  {
   "cell_type": "code",
   "execution_count": null,
   "metadata": {},
   "outputs": [],
   "source": [
    "a = \"Hello, World!\"\n",
    "print(a.upper())\n",
    "\n",
    "a = \"Hello, World!\"\n",
    "print(a.lower())\n",
    "\n",
    "#Stripping white space from beginning and end\n",
    "a = \"    Hello, World!    \"\n",
    "print(a.strip()) \n",
    "\n",
    "a = \"Hello, World!\"\n",
    "print(a.split(\",\"))"
   ]
  },
  {
   "cell_type": "code",
   "execution_count": null,
   "metadata": {},
   "outputs": [],
   "source": []
  }
 ],
 "metadata": {
  "kernelspec": {
   "display_name": "Python 3",
   "language": "python",
   "name": "python3"
  },
  "language_info": {
   "codemirror_mode": {
    "name": "ipython",
    "version": 3
   },
   "file_extension": ".py",
   "mimetype": "text/x-python",
   "name": "python",
   "nbconvert_exporter": "python",
   "pygments_lexer": "ipython3",
   "version": "3.6.10"
  }
 },
 "nbformat": 4,
 "nbformat_minor": 2
}
