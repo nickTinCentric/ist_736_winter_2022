{
 "cells": [
  {
   "cell_type": "markdown",
   "metadata": {},
   "source": [
    "Dictionaries  (15 minutes)\n",
    "\n",
    "In your group, write the code needed to create a dictionary that includes at least 10 items \n",
    "which has a key of a word and a value of the count of times that word appears in a document\n",
    " (you make up the data). \n",
    "\n",
    "Once you have created the dictionary, sort it by the key and then display the results -\n",
    " both the key and the value.\n",
    "Then add at least 2 more words with counts to the dictionary.\n",
    "Remove one of your entries in the dictionary.\n",
    "\n",
    "Try some of these dictionary methods on your dictionary and make sure you understand what happened.\n",
    "\n",
    "* clear()\tRemoves all the elements from the dictionary\n",
    "* copy()\tReturns a copy of the dictionary\n",
    "* fromkeys()\tReturns a dictionary with the specified keys and value\n",
    "* get()\t\tReturns the value of the specified key\n",
    "* items()\tReturns a list containing a tuple for each key value pair\n",
    "* keys()\t\tReturns a list containing the dictionary's keys\n",
    "* pop()\t\tRemoves the element with the specified key"
   ]
  },
  {
   "cell_type": "code",
   "execution_count": 1,
   "metadata": {},
   "outputs": [],
   "source": [
    "dict = {'fname': 'Nick', 'lname' : 'Tinsley', 'age' : 43, 'hairclr': 'brown', 'eyeclr':'blue', 'beard':True, 'children': 2, 'married': True }"
   ]
  },
  {
   "cell_type": "code",
   "execution_count": 4,
   "metadata": {},
   "outputs": [
    {
     "name": "stdout",
     "output_type": "stream",
     "text": [
      "age 43\n",
      "beard True\n",
      "children 2\n",
      "employeer microsoft\n",
      "eyeclr blue\n",
      "fname Nick\n",
      "hairclr brown\n",
      "happy True\n",
      "lname Tinsley\n",
      "married True\n"
     ]
    }
   ],
   "source": [
    "for key in sorted(dict):\n",
    "    print(key, dict[key])"
   ]
  },
  {
   "cell_type": "code",
   "execution_count": 3,
   "metadata": {},
   "outputs": [],
   "source": [
    "dict['employeer'] = 'microsoft'\n",
    "dict['happy'] = True\n"
   ]
  },
  {
   "cell_type": "code",
   "execution_count": 6,
   "metadata": {},
   "outputs": [],
   "source": [
    "newdict = dict.copy()"
   ]
  },
  {
   "cell_type": "code",
   "execution_count": 8,
   "metadata": {},
   "outputs": [
    {
     "name": "stdout",
     "output_type": "stream",
     "text": [
      "married\n"
     ]
    }
   ],
   "source": [
    "married = newdict.get('married')\n",
    "if married:\n",
    "    print(\"married\")"
   ]
  },
  {
   "cell_type": "code",
   "execution_count": 9,
   "metadata": {},
   "outputs": [
    {
     "name": "stdout",
     "output_type": "stream",
     "text": [
      "86\n"
     ]
    }
   ],
   "source": [
    "x = dict.get('age') + newdict.get('age')\n",
    "print(x)"
   ]
  },
  {
   "cell_type": "code",
   "execution_count": 10,
   "metadata": {},
   "outputs": [
    {
     "ename": "TypeError",
     "evalue": "unhashable type: 'dict'",
     "output_type": "error",
     "traceback": [
      "\u001b[1;31m---------------------------------------------------------------------------\u001b[0m",
      "\u001b[1;31mTypeError\u001b[0m                                 Traceback (most recent call last)",
      "\u001b[1;32m<ipython-input-10-88bc771d2b53>\u001b[0m in \u001b[0;36m<module>\u001b[1;34m\u001b[0m\n\u001b[1;32m----> 1\u001b[1;33m \u001b[0mtable_dict\u001b[0m \u001b[1;33m=\u001b[0m \u001b[0mdict\u001b[0m \u001b[1;33m=\u001b[0m \u001b[1;33m{\u001b[0m\u001b[1;33m{\u001b[0m\u001b[1;34m'fname'\u001b[0m\u001b[1;33m:\u001b[0m \u001b[1;34m'Nick'\u001b[0m\u001b[1;33m,\u001b[0m \u001b[1;34m'lname'\u001b[0m \u001b[1;33m:\u001b[0m \u001b[1;34m'Tinsley'\u001b[0m\u001b[1;33m,\u001b[0m \u001b[1;34m'age'\u001b[0m \u001b[1;33m:\u001b[0m \u001b[1;36m43\u001b[0m\u001b[1;33m,\u001b[0m \u001b[1;34m'hairclr'\u001b[0m\u001b[1;33m:\u001b[0m \u001b[1;34m'brown'\u001b[0m\u001b[1;33m,\u001b[0m \u001b[1;34m'eyeclr'\u001b[0m\u001b[1;33m:\u001b[0m\u001b[1;34m'blue'\u001b[0m\u001b[1;33m,\u001b[0m \u001b[1;34m'beard'\u001b[0m\u001b[1;33m:\u001b[0m\u001b[1;32mTrue\u001b[0m\u001b[1;33m,\u001b[0m \u001b[1;34m'children'\u001b[0m\u001b[1;33m:\u001b[0m \u001b[1;36m2\u001b[0m\u001b[1;33m,\u001b[0m \u001b[1;34m'married'\u001b[0m\u001b[1;33m:\u001b[0m \u001b[1;32mTrue\u001b[0m \u001b[1;33m}\u001b[0m\u001b[1;33m,\u001b[0m\u001b[1;33m{\u001b[0m\u001b[1;34m'fname'\u001b[0m\u001b[1;33m:\u001b[0m \u001b[1;34m'Nick'\u001b[0m\u001b[1;33m,\u001b[0m \u001b[1;34m'lname'\u001b[0m \u001b[1;33m:\u001b[0m \u001b[1;34m'Tinsley'\u001b[0m\u001b[1;33m,\u001b[0m \u001b[1;34m'age'\u001b[0m \u001b[1;33m:\u001b[0m \u001b[1;36m43\u001b[0m\u001b[1;33m,\u001b[0m \u001b[1;34m'hairclr'\u001b[0m\u001b[1;33m:\u001b[0m \u001b[1;34m'brown'\u001b[0m\u001b[1;33m,\u001b[0m \u001b[1;34m'eyeclr'\u001b[0m\u001b[1;33m:\u001b[0m\u001b[1;34m'blue'\u001b[0m\u001b[1;33m,\u001b[0m \u001b[1;34m'beard'\u001b[0m\u001b[1;33m:\u001b[0m\u001b[1;32mTrue\u001b[0m\u001b[1;33m,\u001b[0m \u001b[1;34m'children'\u001b[0m\u001b[1;33m:\u001b[0m \u001b[1;36m2\u001b[0m\u001b[1;33m,\u001b[0m \u001b[1;34m'married'\u001b[0m\u001b[1;33m:\u001b[0m \u001b[1;32mTrue\u001b[0m \u001b[1;33m}\u001b[0m\u001b[1;33m}\u001b[0m\u001b[1;33m\u001b[0m\u001b[1;33m\u001b[0m\u001b[0m\n\u001b[0m",
      "\u001b[1;31mTypeError\u001b[0m: unhashable type: 'dict'"
     ]
    }
   ],
   "source": [
    "table_dict = dict = {{'fname': 'Nick', 'lname' : 'Tinsley', 'age' : 43, 'hairclr': 'brown', 'eyeclr':'blue', 'beard':True, 'children': 2, 'married': True },{'fname': 'Nick', 'lname' : 'Tinsley', 'age' : 43, 'hairclr': 'brown', 'eyeclr':'blue', 'beard':True, 'children': 2, 'married': True }}"
   ]
  },
  {
   "cell_type": "code",
   "execution_count": 11,
   "metadata": {},
   "outputs": [
    {
     "name": "stdout",
     "output_type": "stream",
     "text": [
      "Sorted by 1st element [(1, 3), (1, 7), (2, 2), (3, 4)]\n",
      "Sorted by 2nd element [(2, 2), (1, 3), (3, 4), (1, 7)]\n"
     ]
    }
   ],
   "source": [
    "numtuple = [(1,7), (1,3), (3,4),(2,2)]\n",
    "sortONE = sorted(numtuple)\n",
    "print('Sorted by 1st element', sortONE)\n",
    "sorttuple = sorted(numtuple, key=lambda item: item[1])\n",
    "print('Sorted by 2nd element', sorttuple)"
   ]
  },
  {
   "cell_type": "code",
   "execution_count": 13,
   "metadata": {},
   "outputs": [
    {
     "name": "stdout",
     "output_type": "stream",
     "text": [
      "An exception happened:name 'boxPrint' is not defined\n",
      "An exception happened:name 'boxPrint' is not defined\n"
     ]
    }
   ],
   "source": [
    "\n",
    "\n",
    "for sym, w, h in (('*', 4, 4), ('O', 20,5)):\n",
    "    try:\n",
    "        boxPrint(sym,w,h)\n",
    "    except Exception as err:\n",
    "        print('An exception happened:' + str(err))"
   ]
  },
  {
   "cell_type": "code",
   "execution_count": null,
   "metadata": {},
   "outputs": [],
   "source": []
  }
 ],
 "metadata": {
  "interpreter": {
   "hash": "c236fdc6bf382f7a4904d615b2c2d59dd399c4100baf8f3f73b16694efcbae7c"
  },
  "kernelspec": {
   "display_name": "Python 3.8.8 64-bit ('base': conda)",
   "language": "python",
   "name": "python3"
  },
  "language_info": {
   "codemirror_mode": {
    "name": "ipython",
    "version": 3
   },
   "file_extension": ".py",
   "mimetype": "text/x-python",
   "name": "python",
   "nbconvert_exporter": "python",
   "pygments_lexer": "ipython3",
   "version": "3.8.8"
  },
  "orig_nbformat": 4
 },
 "nbformat": 4,
 "nbformat_minor": 2
}
