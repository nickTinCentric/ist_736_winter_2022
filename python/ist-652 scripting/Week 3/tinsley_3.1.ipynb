{
 "cells": [
  {
   "cell_type": "markdown",
   "metadata": {},
   "source": [
    "### Instructions\n",
    "\n",
    "Write your own program (or build on the one you wrote before) to read the NBA Attendance file into Python, and find the average attendance, average price of a ticket, and the max attendance record, max ticket price. Display the total attendance, average attendance, the max attendance with the team name, and the max ticket price with the team name.\n",
    "\n",
    "Capture your program and results in a text file and upload."
   ]
  },
  {
   "cell_type": "code",
   "execution_count": 2,
   "metadata": {},
   "outputs": [],
   "source": [
    "#read data\n",
    "\n",
    "nbaData = open(\"NBA-Attendance-1989.txt\", \"r\")\n",
    "\n",
    "# init blank list\n",
    "teamList = []"
   ]
  },
  {
   "cell_type": "code",
   "execution_count": 3,
   "metadata": {},
   "outputs": [
    {
     "name": "stdout",
     "output_type": "stream",
     "text": [
      "27\n"
     ]
    }
   ],
   "source": [
    "#go through each line of code and strip each line, then strip each word out of the line, append word to list\n",
    "for line in nbaData:\n",
    "    textLine = line.strip()\n",
    "\n",
    "    item = textLine.split()\n",
    "\n",
    "    teamList.append(item)\n",
    "\n",
    "print(len(teamList))\n"
   ]
  },
  {
   "cell_type": "code",
   "execution_count": 4,
   "metadata": {},
   "outputs": [
    {
     "name": "stdout",
     "output_type": "stream",
     "text": [
      "[13993, 14916, 23901, 18404, 16969, 16868, 12668, 21454, 15025, 15846, 12885, 11869, 17378, 15008, 16088, 26160, 12160, 17815, 15606, 14017, 14114, 12884, 17014, 14722, 12244, 12616, 11565]\n",
      "[20.06, 22.54, 17.0, 21.98, 19.63, 17.05, 17.4, 24.42, 17.04, 17.56, 13.77, 21.95, 29.18, 17.6, 14.08, 10.92, 13.31, 22.7, 20.47, 19.04, 16.59, 22.19, 16.96, 16.79, 18.11, 18.41, 14.55]\n"
     ]
    }
   ],
   "source": [
    "#build out lists for data munging\n",
    "attend_lst = []\n",
    "ticket_lst =[]\n",
    "\n",
    "\n",
    "for i in teamList:\n",
    "    attend_lst.append(int(i[1]))\n",
    "    ticket_lst.append(float(i[2]))\n",
    "\n",
    "print(attend_lst)\n",
    "print(ticket_lst)"
   ]
  },
  {
   "cell_type": "code",
   "execution_count": 5,
   "metadata": {},
   "outputs": [
    {
     "name": "stdout",
     "output_type": "stream",
     "text": [
      "AVG Ticket Price: 18.57\n",
      "Total Attendance: 424189\n",
      "AVG Attendance: 15711\n",
      "Team: LA_Lakers -- MAX ticket price: 29.18\n",
      "Team: Minnesota -- MAX Attendance: 26160\n"
     ]
    }
   ],
   "source": [
    "# find average attendance, average price of a ticket, and the max attendance record, max ticket price\n",
    "# f\"{ttl_pay:.2f}\"\n",
    "avg_attend = sum(attend_lst) / len(attend_lst)\n",
    "#print(\"AVG Attendance:\", f\"{avg_attend:.0f}\")\n",
    "\n",
    "\n",
    "avg_tick_price = sum(ticket_lst) / len(ticket_lst)\n",
    "print(\"AVG Ticket Price:\", f\"{avg_tick_price:.2f}\")\n",
    "\n",
    "\n",
    "max_attend = max(attend_lst)\n",
    "#print(\"Max Attendance:\", max_attend)\n",
    "\n",
    "\n",
    "max_ticket_price = max(ticket_lst)\n",
    "#print(\"Max Ticket Price:\", f\"{max_ticket_price:.2f}\")\n",
    "\n",
    "\n",
    "# Display the total attendance, average attendance, the max attendance with the team name, and the max ticket price with the team name.\n",
    "ttl_attend = sum(attend_lst)\n",
    "\n",
    "print(\"Total Attendance:\", ttl_attend)\n",
    "print(\"AVG Attendance:\", f\"{avg_attend:.0f}\")\n",
    "\n",
    "for i in teamList:\n",
    "    if int(i[1]) == max_attend:\n",
    "        print(\"Team:\", i[0], \"-- MAX Attendance:\", max_attend)\n",
    "    if float(i[2]) == max_ticket_price:\n",
    "        print(\"Team:\",i[0], \"-- MAX ticket price:\", max_ticket_price)"
   ]
  }
 ],
 "metadata": {
  "interpreter": {
   "hash": "c236fdc6bf382f7a4904d615b2c2d59dd399c4100baf8f3f73b16694efcbae7c"
  },
  "kernelspec": {
   "display_name": "Python 3.8.8 64-bit ('base': conda)",
   "language": "python",
   "name": "python3"
  },
  "language_info": {
   "codemirror_mode": {
    "name": "ipython",
    "version": 3
   },
   "file_extension": ".py",
   "mimetype": "text/x-python",
   "name": "python",
   "nbconvert_exporter": "python",
   "pygments_lexer": "ipython3",
   "version": "3.8.8"
  },
  "orig_nbformat": 4
 },
 "nbformat": 4,
 "nbformat_minor": 2
}
