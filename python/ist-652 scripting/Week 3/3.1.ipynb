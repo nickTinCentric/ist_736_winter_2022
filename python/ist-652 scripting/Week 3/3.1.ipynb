{
 "cells": [
  {
   "cell_type": "markdown",
   "metadata": {},
   "source": [
    "### Instructions\n",
    "\n",
    "Write your own program (or build on the one you wrote before) to read the NBA Attendance file into Python, and find the average attendance, average price of a ticket, and the max attendance record, max ticket price. Display the total attendance, average attendance, the max attendance with the team name, and the max ticket price with the team name.\n",
    "\n",
    "Capture your program and results in a text file and upload."
   ]
  },
  {
   "cell_type": "code",
   "execution_count": null,
   "metadata": {},
   "outputs": [],
   "source": []
  }
 ],
 "metadata": {
  "language_info": {
   "name": "python"
  },
  "orig_nbformat": 4
 },
 "nbformat": 4,
 "nbformat_minor": 2
}
