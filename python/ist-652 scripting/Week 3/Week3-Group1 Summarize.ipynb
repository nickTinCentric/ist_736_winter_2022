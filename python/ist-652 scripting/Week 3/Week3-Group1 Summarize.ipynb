{
 "cells": [
  {
   "cell_type": "code",
   "execution_count": null,
   "metadata": {},
   "outputs": [],
   "source": [
    "#Example to find average of list\n",
    "\n",
    "def cal_average(num):\n",
    "    sum_num = 0\n",
    "    for t in num:\n",
    "        sum_num = sum_num + t           \n",
    "\n",
    "    avg = sum_num / len(num)\n",
    "    return avg\n",
    "\n",
    "print(\"The average is\", cal_average([18,25,3,41,5]))"
   ]
  },
  {
   "cell_type": "code",
   "execution_count": null,
   "metadata": {},
   "outputs": [],
   "source": [
    "# Example to find average of list\n",
    "\n",
    "number_list = [45, 34, 10, 36, 12, 6, 80]\n",
    "avg = sum(number_list)/len(number_list)\n",
    "print(\"The average is \", round(avg,2))"
   ]
  },
  {
   "cell_type": "code",
   "execution_count": null,
   "metadata": {},
   "outputs": [],
   "source": [
    "# Example to find the average of the list\n",
    "\n",
    "from statistics import mean\n",
    " \n",
    "number_list = [45, 34, 10, 36, 12, 6, 80]\n",
    "avg = mean(number_list)\n",
    "print(\"The average is \", round(avg,2))"
   ]
  },
  {
   "cell_type": "code",
   "execution_count": null,
   "metadata": {},
   "outputs": [],
   "source": [
    "# Example to find avearge of list\n",
    "\n",
    "from numpy import mean\n",
    "number_list = [45, 34, 10, 36, 12, 6, 80]\n",
    "avg = mean(number_list)\n",
    "print(\"The average is \", round(avg,2))"
   ]
  },
  {
   "cell_type": "code",
   "execution_count": null,
   "metadata": {},
   "outputs": [],
   "source": [
    "# Python program to find smallest number in a list\n",
    "\n",
    "# Given list of numbers\n",
    "lis = [89, 100, 35, 16, 99]\n",
    "\n",
    "# sorting the given list \"lis\"\n",
    "# sort() function sorts the list in ascending order\n",
    "lis.sort()\n",
    "\n",
    "# Displaying the first element of the list\n",
    "# which is the smallest number in the sorted list\n",
    "print(\"Smallest number in the list is:\", lis[0])"
   ]
  },
  {
   "cell_type": "code",
   "execution_count": null,
   "metadata": {},
   "outputs": [],
   "source": [
    "# Python program to find smallest number in the\n",
    "# given list using min() method\n",
    "\n",
    "# Given list of numbers\n",
    "lis = [9, 100, 3, 16, 60]\n",
    "\n",
    "# min() method returns the smallest element of the list\n",
    "print(\"Smallest number of the list is:\", min(lis))"
   ]
  },
  {
   "cell_type": "code",
   "execution_count": null,
   "metadata": {},
   "outputs": [],
   "source": [
    "# Python program to find largest number in a list\n",
    "\n",
    "# A list of numbers is given\n",
    "lis = [1, 10, 40, 36, 16]\n",
    "\n",
    "# sorting the given list \"lis\"\n",
    "# sort() function sorts the list in ascending order\n",
    "lis.sort()\n",
    "\n",
    "# Displaying the last element of the list\n",
    "# which is the largest number in the sorted list\n",
    "print(\"Largest number in the list is:\", lis[-1])"
   ]
  },
  {
   "cell_type": "code",
   "execution_count": null,
   "metadata": {},
   "outputs": [],
   "source": [
    "# Python program to find largest number in a list\n",
    "# using max() function\n",
    "\n",
    "# A list of numbers\n",
    "lis = [19, 10, 45, 26, 6]\n",
    "\n",
    "# max() method returns the largest element of the list\n",
    "print(\"Largest number of the list is:\", max(lis))"
   ]
  },
  {
   "cell_type": "code",
   "execution_count": null,
   "metadata": {},
   "outputs": [],
   "source": []
  }
 ],
 "metadata": {
  "kernelspec": {
   "display_name": "Python 3",
   "language": "python",
   "name": "python3"
  },
  "language_info": {
   "codemirror_mode": {
    "name": "ipython",
    "version": 3
   },
   "file_extension": ".py",
   "mimetype": "text/x-python",
   "name": "python",
   "nbconvert_exporter": "python",
   "pygments_lexer": "ipython3",
   "version": "3.6.10"
  }
 },
 "nbformat": 4,
 "nbformat_minor": 4
}
