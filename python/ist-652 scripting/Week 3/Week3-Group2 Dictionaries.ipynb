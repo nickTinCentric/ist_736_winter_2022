{
 "cells": [
  {
   "cell_type": "code",
   "execution_count": null,
   "metadata": {},
   "outputs": [],
   "source": [
    "# Python code to convert list into dictionary \n",
    "list_1=[(\"Nakul\",93), (\"Shivansh\",45), (\"Samved\",65), \n",
    "           (\"Yash\",88), (\"Vidit\",70), (\"Pradeep\",52)] \n",
    "dict_1=dict() \n",
    "  \n",
    "for student,score in list_1: \n",
    "    dict_1.setdefault(student, []).append(score) \n",
    "print(dict_1) \n"
   ]
  },
  {
   "cell_type": "code",
   "execution_count": null,
   "metadata": {},
   "outputs": [],
   "source": [
    "# Python code to convert into dictionary using the dict function\n",
    "\n",
    "      \n",
    "# Driver Code  \n",
    "tups = [(\"akash\", 10), (\"gaurav\", 12), (\"anand\", 14),  \n",
    "    (\"suraj\", 20), (\"akhil\", 25), (\"ashish\", 30)] \n",
    "dictionary = {} \n",
    "dictionary = dict(tups)\n",
    "print (dictionary) "
   ]
  },
  {
   "cell_type": "code",
   "execution_count": null,
   "metadata": {},
   "outputs": [],
   "source": [
    "# Python code to convert into dictionary \n",
    "\n",
    "print (dict([('Sachin', 10), ('MSD', 7), ('Kohli', 18), ('Rohit', 45)])) \n"
   ]
  },
  {
   "cell_type": "code",
   "execution_count": null,
   "metadata": {},
   "outputs": [],
   "source": [
    "# Python3 code to demonstrate working of \n",
    "# Convert list of tuples to dictionary value lists \n",
    "# Using defaultdict() + loop \n",
    "from collections import defaultdict \n",
    "  \n",
    "# initializing list \n",
    "test_list = [(1, 'gfg'), (1, 'is'), (2, 'best'), (3, 'for'), (4, 'CS')] \n",
    "  \n",
    "# printing original list \n",
    "print(\"The original list is : \" + str(test_list)) \n",
    "  \n",
    "# Using defaultdict() + loop \n",
    "# Convert list of tuples to dictionary value lists \n",
    "res = defaultdict(list) \n",
    "for i, j in test_list: \n",
    "    res[i].append(j) \n",
    "  \n",
    "# printing result  \n",
    "print(\"The merged dictionary is : \" + str(dict(res))) "
   ]
  },
  {
   "cell_type": "code",
   "execution_count": null,
   "metadata": {},
   "outputs": [],
   "source": [
    "# Python3 code to demonstrate working of \n",
    "# Convert list of tuples to dictionary value lists \n",
    "# Using defaultdict() + groupby() \n",
    "from collections import defaultdict \n",
    "from operator import itemgetter \n",
    "from itertools import groupby \n",
    "  \n",
    "# initializing list \n",
    "test_list = [(1, 'gfg'), (1, 'is'), (2, 'best'), (3, 'for'), (4, 'CS')] \n",
    "  \n",
    "# printing original list \n",
    "print(\"The original list is : \" + str(test_list)) \n",
    "  \n",
    "# Using defaultdict() + groupby() \n",
    "# Convert list of tuples to dictionary value lists \n",
    "res = dict((k, [v[1] for v in itr]) for k, itr in groupby( \n",
    "                                test_list, itemgetter(0))) \n",
    "  \n",
    "# printing result  \n",
    "print(\"The merged dictionary is : \" + str(dict(res))) "
   ]
  },
  {
   "cell_type": "code",
   "execution_count": null,
   "metadata": {},
   "outputs": [],
   "source": [
    "Collections:\n",
    "    This module implements specialized container datatypes providing alternatives to Python’s general purpose built-in containers, dict, list, set, and tuple.\n",
    "\n",
    "namedtuple()\tfactory function for creating tuple subclasses with named fields\n",
    "deque\tlist-like container with fast appends and pops on either end\n",
    "ChainMap\tdict-like class for creating a single view of multiple mappings\n",
    "Counter\tdict subclass for counting hashable objects\n",
    "OrderedDict\tdict subclass that remembers the order entries were added\n",
    "defaultdict\tdict subclass that calls a factory function to supply missing values\n",
    "UserDict\twrapper around dictionary objects for easier dict subclassing\n",
    "UserList\twrapper around list objects for easier list subclassing\n",
    "UserString\twrapper around string objects for easier string subclassing\n",
    "\n",
    "\n",
    "Operator:\n",
    "    The operator module exports a set of efficient functions corresponding to the intrinsic operators of Python. For example, operator.add(x, y) \n",
    "    is equivalent to the expression x+y.\n",
    "    The function names are those used for special class methods\n",
    "\n",
    "Itertools:\n",
    "    The module standardizes a core set of fast, memory efficient tools that are useful by themselves or in combination. Together, \n",
    "    they form an “iterator algebra” making it possible to construct specialized tools succinctly and efficiently in pure Python.\n",
    "    "
   ]
  }
 ],
 "metadata": {
  "kernelspec": {
   "display_name": "Python 3",
   "language": "python",
   "name": "python3"
  },
  "language_info": {
   "codemirror_mode": {
    "name": "ipython",
    "version": 3
   },
   "file_extension": ".py",
   "mimetype": "text/x-python",
   "name": "python",
   "nbconvert_exporter": "python",
   "pygments_lexer": "ipython3",
   "version": "3.6.10"
  }
 },
 "nbformat": 4,
 "nbformat_minor": 4
}
