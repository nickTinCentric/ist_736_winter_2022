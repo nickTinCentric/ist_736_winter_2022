{
 "cells": [
  {
   "cell_type": "markdown",
   "metadata": {},
   "source": [
    "Now you try: Create a dictionary of at least five contacts with first names and phone numbers, sort the list in alphabetical order, and print the contacts with their phone numbers.\n",
    "\n",
    "Capture your code and the results in a text document and submit it here."
   ]
  },
  {
   "cell_type": "code",
   "execution_count": 14,
   "metadata": {},
   "outputs": [
    {
     "data": {
      "text/plain": [
       "dict"
      ]
     },
     "execution_count": 14,
     "metadata": {},
     "output_type": "execute_result"
    }
   ],
   "source": [
    "#create dictionary\n",
    "phone_dict = {\"nick\":'555-555-5555', 'megan':'555-555-5556', 'al':'555-555-5557', 'urban':'555-555-5558', 'grey':'555-555-5559'}\n",
    "\n",
    "type(phone_dict)"
   ]
  },
  {
   "cell_type": "code",
   "execution_count": 15,
   "metadata": {},
   "outputs": [
    {
     "name": "stdout",
     "output_type": "stream",
     "text": [
      "al 555-555-5557\n",
      "grey 555-555-5559\n",
      "megan 555-555-5556\n",
      "nick 555-555-5555\n",
      "urban 555-555-5558\n"
     ]
    }
   ],
   "source": [
    "#print out list in sorted format\n",
    "for key in sorted(phone_dict):\n",
    "    print (key, phone_dict[key])"
   ]
  }
 ],
 "metadata": {
  "interpreter": {
   "hash": "c236fdc6bf382f7a4904d615b2c2d59dd399c4100baf8f3f73b16694efcbae7c"
  },
  "kernelspec": {
   "display_name": "Python 3.8.8 64-bit ('base': conda)",
   "language": "python",
   "name": "python3"
  },
  "language_info": {
   "codemirror_mode": {
    "name": "ipython",
    "version": 3
   },
   "file_extension": ".py",
   "mimetype": "text/x-python",
   "name": "python",
   "nbconvert_exporter": "python",
   "pygments_lexer": "ipython3",
   "version": "3.8.8"
  },
  "orig_nbformat": 4
 },
 "nbformat": 4,
 "nbformat_minor": 2
}
