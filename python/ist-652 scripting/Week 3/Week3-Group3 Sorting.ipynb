{
 "cells": [
  {
   "cell_type": "code",
   "execution_count": 1,
   "metadata": {},
   "outputs": [
    {
     "name": "stdout",
     "output_type": "stream",
     "text": [
      "Sorted array is:\n",
      "5\n",
      "6\n",
      "11\n",
      "12\n",
      "13\n"
     ]
    }
   ],
   "source": [
    "# Python program for implementation of Insertion Sort \n",
    "  \n",
    "# Function to do insertion sort \n",
    "def insertionSort(arr): \n",
    "  \n",
    "    # Traverse through 1 to len(arr) \n",
    "    for i in range(1, len(arr)): \n",
    "  \n",
    "        key = arr[i] \n",
    "  \n",
    "        # Move elements of arr[0..i-1], that are \n",
    "        # greater than key, to one position ahead \n",
    "        # of their current position \n",
    "        j = i-1\n",
    "        while j >=0 and key < arr[j] : \n",
    "                arr[j+1] = arr[j] \n",
    "                j -= 1\n",
    "        arr[j+1] = key \n",
    "  \n",
    "  \n",
    "# Driver code to test above \n",
    "arr = [12, 11, 13, 5, 6] \n",
    "insertionSort(arr) \n",
    "print (\"Sorted array is:\") \n",
    "for i in range(len(arr)): \n",
    "    print (\"%d\" %arr[i]) "
   ]
  },
  {
   "cell_type": "code",
   "execution_count": 2,
   "metadata": {},
   "outputs": [
    {
     "name": "stdout",
     "output_type": "stream",
     "text": [
      "Sorted array is:\n",
      "11\n",
      "12\n",
      "22\n",
      "25\n",
      "34\n",
      "64\n",
      "90\n"
     ]
    }
   ],
   "source": [
    "# Python program for implementation of Bubble Sort \n",
    "  \n",
    "def bubbleSort(arr): \n",
    "    n = len(arr) \n",
    "  \n",
    "    # Traverse through all array elements \n",
    "    for i in range(n-1): \n",
    "    # range(n) also work but outer loop will repeat one time more than needed. \n",
    "  \n",
    "        # Last i elements are already in place \n",
    "        for j in range(0, n-i-1): \n",
    "  \n",
    "            # traverse the array from 0 to n-i-1 \n",
    "            # Swap if the element found is greater \n",
    "            # than the next element \n",
    "            if arr[j] > arr[j+1] : \n",
    "                arr[j], arr[j+1] = arr[j+1], arr[j] \n",
    "  \n",
    "# Driver code to test above \n",
    "arr = [64, 34, 25, 12, 22, 11, 90] \n",
    "  \n",
    "bubbleSort(arr) \n",
    "  \n",
    "print (\"Sorted array is:\") \n",
    "for i in range(len(arr)): \n",
    "    print (\"%d\" %arr[i]),  "
   ]
  },
  {
   "cell_type": "code",
   "execution_count": 3,
   "metadata": {},
   "outputs": [
    {
     "name": "stdout",
     "output_type": "stream",
     "text": [
      "Given array is\n",
      "0 : GeeksforGeeks\n",
      "1 : Practice.GeeksforGeeks\n",
      "2 : Geeksquiz\n",
      "3 : geeks\n",
      "4 : tryit\n",
      "\n",
      "Sorted array is\n",
      "0 : GeeksforGeeks\n",
      "1 : Geeksquiz\n",
      "2 : Practice.GeeksforGeeks\n",
      "3 : geeks\n",
      "4 : tryit\n"
     ]
    }
   ],
   "source": [
    "# Python program to implement Selection Sort for \n",
    "#  array of strings \n",
    "  \n",
    "# Function defined for sorting the array of strings \n",
    "def Selection(arr,n): \n",
    "    \n",
    "    # One by one move boundary of unsorted subarray \n",
    "    for i in range(n): \n",
    "        min_index = i \n",
    "        min_str = arr[i] \n",
    "          \n",
    "        # Find the minimum element in unsorted subarray \n",
    "        for j in range(i+1,n): \n",
    "              \n",
    "            # If min_str is greater than arr[j] \n",
    "            if min_str>arr[j]: \n",
    "                  \n",
    "                # Make arr[j] as min_str and update min_index as j \n",
    "                min_str = arr[j] \n",
    "                min_index = j \n",
    "                  \n",
    "        # Swap the found minimum element with the first element        \n",
    "        if min_index != i: \n",
    "              \n",
    "            # Store the first element in temp \n",
    "            temp = arr[i] \n",
    "              \n",
    "            # Place the min element at the first position \n",
    "            arr[i] = arr[min_index] \n",
    "              \n",
    "            # place the element in temp at min_index \n",
    "            arr[min_index] = temp \n",
    "       \n",
    "    # Return the sorted array \n",
    "    return arr \n",
    "  \n",
    "arr = [\"GeeksforGeeks\", \"Practice.GeeksforGeeks\", \"Geeksquiz\", \"geeks\", \"tryit\"] \n",
    "  \n",
    "print(\"Given array is\") \n",
    "for i in range(len(arr)): \n",
    "    print(i,\":\",arr[i]) \n",
    "  \n",
    "print(\"\\nSorted array is\") \n",
    "for i in range(len(Selection(arr,len(arr)))): \n",
    "    print(i,\":\",Selection(arr,len(arr))[i]) "
   ]
  },
  {
   "cell_type": "code",
   "execution_count": null,
   "metadata": {},
   "outputs": [],
   "source": []
  }
 ],
 "metadata": {
  "kernelspec": {
   "display_name": "Python 3",
   "language": "python",
   "name": "python3"
  },
  "language_info": {
   "codemirror_mode": {
    "name": "ipython",
    "version": 3
   },
   "file_extension": ".py",
   "mimetype": "text/x-python",
   "name": "python",
   "nbconvert_exporter": "python",
   "pygments_lexer": "ipython3",
   "version": "3.8.8"
  }
 },
 "nbformat": 4,
 "nbformat_minor": 4
}
