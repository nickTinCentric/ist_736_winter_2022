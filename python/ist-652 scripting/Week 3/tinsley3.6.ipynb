{
 "cells": [
  {
   "cell_type": "markdown",
   "metadata": {},
   "source": [
    "Consider the following two dictionaries:\n",
    "\n",
    "stock = {\"banana\":6,\"apple\":0,\"orange\":32,\"pear\":15}\n",
    "\n",
    "prices={\"banana\":4,\"apple\":2,\"orange\":1.5,\"pear\":3}\n",
    "\n",
    "1. Show the expression that gets the value of the stock dictionary at the key \"orange\". Add another item to the dictionary (\"cherry\", 14).\n",
    "\n",
    "2. Write the code for a loop that iterates over the stock dictionary and prints each key and value.\n",
    "\n",
    "\n",
    "Submit your code and results. Check out a couple of your classmates' submissions to see if and how they differ from yours."
   ]
  },
  {
   "cell_type": "code",
   "execution_count": 1,
   "metadata": {},
   "outputs": [],
   "source": [
    "#init dictionaries\n",
    "\n",
    "stock = {\"banana\":6,\"apple\":0,\"orange\":32,\"pear\":15}\n",
    "\n",
    "prices={\"banana\":4,\"apple\":2,\"orange\":1.5,\"pear\":3}"
   ]
  },
  {
   "cell_type": "code",
   "execution_count": 11,
   "metadata": {},
   "outputs": [
    {
     "name": "stdout",
     "output_type": "stream",
     "text": [
      "Stock value of oranges is 32\n"
     ]
    }
   ],
   "source": [
    "#ref value of stock of Oranges\n",
    "orange_stock = stock.get('orange')\n",
    "\n",
    "#orange_stock_ttlvalue = stock.get('orange') * prices.get(\"orange\")\n",
    "\n",
    "print (f\"Stock value of oranges is {orange_stock:.0f}\")"
   ]
  },
  {
   "cell_type": "code",
   "execution_count": 7,
   "metadata": {},
   "outputs": [],
   "source": [
    "## add cherry to stock dictionary\n",
    "stock[\"cherry\"] = 14"
   ]
  },
  {
   "cell_type": "code",
   "execution_count": 10,
   "metadata": {},
   "outputs": [
    {
     "name": "stdout",
     "output_type": "stream",
     "text": [
      "Stock Item banana value is 6\n",
      "Stock Item apple value is 0\n",
      "Stock Item orange value is 32\n",
      "Stock Item pear value is 15\n",
      "Stock Item cherry value is 14\n"
     ]
    }
   ],
   "source": [
    "#interate through stock list and print key and value\n",
    "for key in stock:\n",
    "    print(f\"Stock Item {key:s} value is {stock[key]:.0f}\")"
   ]
  }
 ],
 "metadata": {
  "interpreter": {
   "hash": "c236fdc6bf382f7a4904d615b2c2d59dd399c4100baf8f3f73b16694efcbae7c"
  },
  "kernelspec": {
   "display_name": "Python 3.8.8 64-bit ('base': conda)",
   "language": "python",
   "name": "python3"
  },
  "language_info": {
   "codemirror_mode": {
    "name": "ipython",
    "version": 3
   },
   "file_extension": ".py",
   "mimetype": "text/x-python",
   "name": "python",
   "nbconvert_exporter": "python",
   "pygments_lexer": "ipython3",
   "version": "3.8.8"
  },
  "orig_nbformat": 4
 },
 "nbformat": 4,
 "nbformat_minor": 2
}
