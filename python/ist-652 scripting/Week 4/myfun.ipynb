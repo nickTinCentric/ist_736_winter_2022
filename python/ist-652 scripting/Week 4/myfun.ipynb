{
 "cells": [
  {
   "cell_type": "code",
   "execution_count": 6,
   "metadata": {},
   "outputs": [],
   "source": [
    "crops_dict = {'hay':1, 'tomato':13, 'tree':25, 'strawberry':11, 'corn':3, 'carrot':5}\n",
    "minutes = {'hay':2, 'tomato': 120, 'tree':180, 'strawberry':60, 'corn':5, 'carrot':10}\n",
    "costs = {'hay': 0, 'tomato':6, 'tree':7, 'strawberry':5, 'corn':1, 'carrot': 2}\n",
    "crop_value = {}\n",
    "\n",
    "avail_crop = input(\"Enter number of crops you have in your world: \")\n",
    "\n",
    "#it takes 2 mins per crop of hay\n",
    "#how much per hour\n",
    "\n",
    "try:\n",
    "    avail_crop = float(avail_crop)\n",
    "except:\n",
    "    print(\"enter numeric value\")\n"
   ]
  },
  {
   "cell_type": "code",
   "execution_count": 7,
   "metadata": {},
   "outputs": [
    {
     "name": "stdout",
     "output_type": "stream",
     "text": [
      "cost to plant hay is 0.00\n",
      "if crops are properly harvested the hay will make $1140.00 per hour\n",
      "cost to plant tomato is 228.00\n",
      "if crops are properly harvested the tomato will make $19.00 per hour\n",
      "cost to plant tree is 266.00\n",
      "if crops are properly harvested the tree will make $50.67 per hour\n",
      "cost to plant strawberry is 190.00\n",
      "if crops are properly harvested the strawberry will make $228.00 per hour\n",
      "cost to plant corn is 38.00\n",
      "if crops are properly harvested the corn will make $1330.00 per hour\n",
      "cost to plant carrot is 76.00\n",
      "if crops are properly harvested the carrot will make $1064.00 per hour\n"
     ]
    }
   ],
   "source": [
    "mvp_crop = []\n",
    "\n",
    "for key in minutes:\n",
    "    multi = 60 / minutes[key]\n",
    "\n",
    "    plant_cost = costs[key] * avail_crop\n",
    "\n",
    "    ph = multi * (avail_crop * crops_dict[key]) - plant_cost\n",
    "\n",
    "    crop_value[key] = ph\n",
    "\n",
    "    print(f'cost to plant {key:s} is {plant_cost:.2f}')\n",
    "    print(f'if crops are properly harvested the {key:s} will make ${ph:.2f} per hour')"
   ]
  },
  {
   "cell_type": "code",
   "execution_count": 8,
   "metadata": {},
   "outputs": [
    {
     "name": "stdout",
     "output_type": "stream",
     "text": [
      "corn 1330.0\n"
     ]
    }
   ],
   "source": [
    "best_value_list = []\n",
    "for key in crop_value:\n",
    "    best_value_list.append(crop_value[key])\n",
    "\n",
    "best_value = max(best_value_list)\n",
    "for key in crop_value:\n",
    "    if crop_value[key] == best_value:\n",
    "        print (key, crop_value[key])\n",
    "\n",
    "\n"
   ]
  },
  {
   "cell_type": "code",
   "execution_count": 9,
   "metadata": {},
   "outputs": [
    {
     "name": "stdout",
     "output_type": "stream",
     "text": [
      "168\n",
      "364\n",
      "196\n"
     ]
    }
   ],
   "source": [
    "##check math\n",
    "a = 28 * 6\n",
    "\n",
    "b = 28 * 13\n",
    "\n",
    "print(a)\n",
    "print(b)\n",
    "\n",
    "print(b-a)"
   ]
  }
 ],
 "metadata": {
  "interpreter": {
   "hash": "c236fdc6bf382f7a4904d615b2c2d59dd399c4100baf8f3f73b16694efcbae7c"
  },
  "kernelspec": {
   "display_name": "Python 3.8.8 64-bit ('base': conda)",
   "language": "python",
   "name": "python3"
  },
  "language_info": {
   "codemirror_mode": {
    "name": "ipython",
    "version": 3
   },
   "file_extension": ".py",
   "mimetype": "text/x-python",
   "name": "python",
   "nbconvert_exporter": "python",
   "pygments_lexer": "ipython3",
   "version": "3.8.8"
  },
  "orig_nbformat": 4
 },
 "nbformat": 4,
 "nbformat_minor": 2
}
