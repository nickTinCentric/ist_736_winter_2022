{
 "cells": [
  {
   "cell_type": "code",
   "execution_count": 48,
   "metadata": {},
   "outputs": [],
   "source": [
    "crops_dict = {'hay':1, 'tomato':13, 'tree':25, 'strawberry':11, 'corn':3, 'carrot':5}\n",
    "minutes = {'hay':2, 'tomato': 120, 'tree':180, 'strawberry':60, 'corn':5, 'carrot':10}\n",
    "costs = {'hay': 0, 'tomato':6, 'tree':7, 'strawberry':5, 'corn':1, 'carrot': 2}\n",
    "crop_value = {}\n",
    "\n",
    "avail_crop = 28\n",
    "\n",
    "#it takes 2 mins per crop of hay\n",
    "#how much per hour\n",
    "\n"
   ]
  },
  {
   "cell_type": "code",
   "execution_count": 49,
   "metadata": {},
   "outputs": [
    {
     "name": "stdout",
     "output_type": "stream",
     "text": [
      "cost to plant hay is 0.00\n",
      "if crops are properly harvested the hay will make $840.00 per hour\n",
      "cost to plant tomato is 168.00\n",
      "if crops are properly harvested the tomato will make $14.00 per hour\n",
      "cost to plant tree is 196.00\n",
      "if crops are properly harvested the tree will make $37.33 per hour\n",
      "cost to plant strawberry is 140.00\n",
      "if crops are properly harvested the strawberry will make $168.00 per hour\n",
      "cost to plant corn is 28.00\n",
      "if crops are properly harvested the corn will make $980.00 per hour\n",
      "cost to plant carrot is 56.00\n",
      "if crops are properly harvested the carrot will make $784.00 per hour\n"
     ]
    }
   ],
   "source": [
    "mvp_crop = []\n",
    "\n",
    "for key in minutes:\n",
    "    multi = 60 / minutes[key]\n",
    "\n",
    "    plant_cost = costs[key] * avail_crop\n",
    "\n",
    "    ph = multi * (avail_crop * crops_dict[key]) - plant_cost\n",
    "\n",
    "    crop_value[key] = ph\n",
    "\n",
    "    print(f'cost to plant {key:s} is {plant_cost:.2f}')\n",
    "    print(f'if crops are properly harvested the {key:s} will make ${ph:.2f} per hour')"
   ]
  },
  {
   "cell_type": "code",
   "execution_count": 51,
   "metadata": {},
   "outputs": [
    {
     "name": "stdout",
     "output_type": "stream",
     "text": [
      "corn 980.0\n",
      "\n"
     ]
    }
   ],
   "source": [
    "best_value_list = []\n",
    "for key in crop_value:\n",
    "    best_value_list.append(crop_value[key])\n",
    "\n",
    "best_value = max(best_value_list)\n",
    "for key in crop_value:\n",
    "    if crop_value[key] == best_value:\n",
    "        print (key, crop_value[key])\n",
    "\n",
    "\n"
   ]
  },
  {
   "cell_type": "code",
   "execution_count": 23,
   "metadata": {},
   "outputs": [
    {
     "name": "stdout",
     "output_type": "stream",
     "text": [
      "168\n",
      "364\n",
      "196\n"
     ]
    }
   ],
   "source": [
    "##check math\n",
    "a = 28 * 6\n",
    "\n",
    "b = 28 * 13\n",
    "\n",
    "print(a)\n",
    "print(b)\n",
    "\n",
    "print(b-a)"
   ]
  }
 ],
 "metadata": {
  "interpreter": {
   "hash": "c236fdc6bf382f7a4904d615b2c2d59dd399c4100baf8f3f73b16694efcbae7c"
  },
  "kernelspec": {
   "display_name": "Python 3.8.8 64-bit ('base': conda)",
   "language": "python",
   "name": "python3"
  },
  "language_info": {
   "codemirror_mode": {
    "name": "ipython",
    "version": 3
   },
   "file_extension": ".py",
   "mimetype": "text/x-python",
   "name": "python",
   "nbconvert_exporter": "python",
   "pygments_lexer": "ipython3",
   "version": "3.8.8"
  },
  "orig_nbformat": 4
 },
 "nbformat": 4,
 "nbformat_minor": 2
}
