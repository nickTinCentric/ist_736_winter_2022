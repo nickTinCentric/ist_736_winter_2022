{
 "cells": [
  {
   "cell_type": "code",
   "execution_count": null,
   "metadata": {},
   "outputs": [],
   "source": [
    "# Functions and Variables\n",
    "# Inside and outside a function\n",
    "\n",
    "def defArgFunc( empname, emprole = \"Manager\" ):   \n",
    "   print (\"Emp Name: \", empname)\n",
    "   print (\"Emp Role \", emprole)\n",
    "   return;\n",
    "print(\"Using default value\")\n",
    "defArgFunc(empname=\"Nick\")\n",
    "print(\"************************\")\n",
    "print(\"Overwriting default value\")\n",
    "defArgFunc(empname=\"Tom\",emprole = \"CEO\")"
   ]
  },
  {
   "cell_type": "code",
   "execution_count": null,
   "metadata": {},
   "outputs": [],
   "source": [
    "print(empname) #explain the result you got"
   ]
  },
  {
   "cell_type": "code",
   "execution_count": null,
   "metadata": {},
   "outputs": [],
   "source": [
    "#Variable length argument example\n",
    "\n",
    "def varLenArgFunc(*varvallist ):   \n",
    "   print (\"The Output is: \")\n",
    "   for varval in varvallist:\n",
    "      print (varval)\n",
    "   return;   \n",
    "print(\"Calling with single value\")\n",
    "varLenArgFunc(55)\n",
    "print(\"Calling with multiple values\")\n",
    "varLenArgFunc(50,60,70,80)"
   ]
  },
  {
   "cell_type": "code",
   "execution_count": null,
   "metadata": {},
   "outputs": [],
   "source": [
    "# Function definition is here\n",
    "def changeme( mylist ):\n",
    "   \"This changes a passed list into this function\"\n",
    "   mylist.append([1,2,3,4]);\n",
    "   print(\"Values inside the function: \", mylist)\n",
    "   return \n",
    "\n",
    "# Now you can call changeme function\n",
    "mylist = [10,20,30];\n",
    "changeme( [10,20,30] );\n",
    "print(\"Values outside the function: \", mylist)"
   ]
  },
  {
   "cell_type": "code",
   "execution_count": null,
   "metadata": {},
   "outputs": [],
   "source": [
    "def changeme( mylist ):\n",
    "   \"This changes a passed list into this function\"\n",
    "   mylist = [1,2,3,4]; # This would assig new reference in mylist\n",
    "   print(\"Values inside the function: \", mylist)\n",
    "   return \n",
    "\n",
    "# Now you can call changeme function\n",
    "mylist = [10,20,30];\n",
    "changeme( mylist );\n",
    "print(\"Values outside the function: \", mylist)"
   ]
  },
  {
   "cell_type": "code",
   "execution_count": null,
   "metadata": {},
   "outputs": [],
   "source": [
    "# Function definition is here  *vartuple is for variable # of arguments\n",
    "def printinfo( arg1, *vartuple ):\n",
    "   \"This prints a variable passed arguments\"\n",
    "   print(\"Output is: \")\n",
    "   print(arg1)\n",
    "   for var in vartuple:\n",
    "      print(var)\n",
    "   return;"
   ]
  },
  {
   "cell_type": "code",
   "execution_count": null,
   "metadata": {},
   "outputs": [],
   "source": [
    "printinfo(10)\n",
    "printinfo(65,25,45)"
   ]
  },
  {
   "cell_type": "code",
   "execution_count": 1,
   "metadata": {},
   "outputs": [
    {
     "name": "stdout",
     "output_type": "stream",
     "text": [
      "Value of total :  30\n",
      "Value of total :  40\n"
     ]
    }
   ],
   "source": [
    "#The Anonymous Functions\n",
    "#These functions are called anonymous because they are not declared in the standard manner by using the def keyword. You can use the lambda keyword to create small anonymous functions.\n",
    "\n",
    "#Lambda forms can take any number of arguments but return just one value in the form of an expression. \n",
    "\n",
    "#Lambda functions have their own local namespace and cannot access variables other than those in their parameter \n",
    "#list and those in the global namespace.\n",
    "\n",
    "#Syntax\n",
    "#The syntax of lambda functions contains only a single statement, which is as follows −\n",
    "\n",
    "#lambda [arg1 [,arg2,.....argn]]:expression\n",
    "#Following is the example to show how lambda form of function works −\n",
    "\n",
    "\n",
    "# Function definition is here\n",
    "sum = lambda arg1, arg2: arg1 + arg2;\n",
    "\n",
    "# Now you can call sum as a function\n",
    "print(\"Value of total : \", sum( 10, 20 ))\n",
    "print(\"Value of total : \", sum( 20, 20 ))"
   ]
  },
  {
   "cell_type": "code",
   "execution_count": 8,
   "metadata": {},
   "outputs": [
    {
     "name": "stdout",
     "output_type": "stream",
     "text": [
      "value of total:  0\n",
      "value of total:  1\n",
      "value of total:  2\n",
      "value of total:  3\n",
      "value of total:  4\n",
      "value of total:  5\n",
      "value of total:  6\n",
      "value of total:  7\n"
     ]
    }
   ],
   "source": [
    "mysum = lambda a, b, c : a+b-c;\n",
    "\n",
    "print(\"value of total: \", mysum(1,2,3))\n",
    "print(\"value of total: \", mysum(2,3,4))\n",
    "print(\"value of total: \", mysum(3,4,5))\n",
    "print(\"value of total: \", mysum(4,5,6))\n",
    "print(\"value of total: \", mysum(5,6,7))\n",
    "print(\"value of total: \", mysum(6,7,8))\n",
    "print(\"value of total: \", mysum(7,8,9))\n",
    "print(\"value of total: \", mysum(8,9,10))"
   ]
  },
  {
   "cell_type": "code",
   "execution_count": null,
   "metadata": {},
   "outputs": [],
   "source": [
    "# Function using a return of a value\n",
    "def sum( arg1, arg2 ):\n",
    "   # Add both the parameters and return them.\"\n",
    "   calc = arg1 + arg2\n",
    "   print(\"Inside the function : \", calc)\n",
    "   return calc;\n",
    "\n",
    "# Now you can call sum function\n",
    "total = sum( 10, 20 );\n",
    "print(\"Outside the function : \", total)"
   ]
  },
  {
   "cell_type": "markdown",
   "metadata": {},
   "source": [
    "Write a short program to create the three functions below.  \n",
    "Run your code a few times with different values.\n",
    "\n",
    "\n",
    "1.  Create a function add_tax(amount, tax_rate) that accepts numeric values, amount and tax_rate,\n",
    "\n",
    "     and returns a new total amount with the tax amount included. \n",
    "\n",
    "Note: that tax rate and tax amount are different.\n",
    "\n",
    "\n",
    "2.  Define a function mean(a, b, c) that returns the mean of three numbers. \n",
    "Hint: Divide by 3.0 to get a float. \n",
    "Make sure that your answer only has 2 decimals.\n",
    "\n",
    "3.  Write a lambda function to accomplish the same thing as #2 above.\n"
   ]
  }
 ],
 "metadata": {
  "kernelspec": {
   "display_name": "Python 3",
   "language": "python",
   "name": "python3"
  },
  "language_info": {
   "codemirror_mode": {
    "name": "ipython",
    "version": 3
   },
   "file_extension": ".py",
   "mimetype": "text/x-python",
   "name": "python",
   "nbconvert_exporter": "python",
   "pygments_lexer": "ipython3",
   "version": "3.8.8"
  }
 },
 "nbformat": 4,
 "nbformat_minor": 2
}
