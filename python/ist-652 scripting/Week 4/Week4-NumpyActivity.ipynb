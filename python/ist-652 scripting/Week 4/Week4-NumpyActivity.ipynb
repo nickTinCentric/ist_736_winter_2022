{
 "cells": [
  {
   "cell_type": "code",
   "execution_count": null,
   "metadata": {},
   "outputs": [],
   "source": [
    "#around function - rounding\n",
    "import numpy as np  \n",
    "arr = np.array([20.8999,67.89899,54.63409])  \n",
    "print(np.around(arr,1))"
   ]
  },
  {
   "cell_type": "code",
   "execution_count": null,
   "metadata": {},
   "outputs": [],
   "source": [
    "#floor function - integer value of number\n",
    "import numpy as np  \n",
    "arr = np.array([20.8,67.99,54.09])  \n",
    "print(np.floor(arr))"
   ]
  },
  {
   "cell_type": "code",
   "execution_count": null,
   "metadata": {},
   "outputs": [],
   "source": [
    "#ceil function - integer value +1\n",
    "import numpy as np  \n",
    "arr = np.array([20.8,67.99,54.09])  \n",
    "print(np.ceil(arr))"
   ]
  },
  {
   "cell_type": "code",
   "execution_count": null,
   "metadata": {},
   "outputs": [],
   "source": [
    "#Arithmetic operations\n",
    "import numpy as np\n",
    " \n",
    "a = np.array([1, 2, 3, 4])\n",
    " \n",
    "# add 5 to every element\n",
    "print ( a+5)\n",
    " \n",
    "# subtract 2 from each element\n",
    "print ( a-2)\n",
    " \n",
    "# multiply each element by 5 \n",
    "print (a*10)\n",
    " \n",
    "# divide each element by 2\n",
    "print ( a/2)"
   ]
  },
  {
   "cell_type": "code",
   "execution_count": 2,
   "metadata": {},
   "outputs": [
    {
     "name": "stdout",
     "output_type": "stream",
     "text": [
      "2\n"
     ]
    },
    {
     "data": {
      "text/plain": [
       "[5, 6, 7]"
      ]
     },
     "execution_count": 2,
     "metadata": {},
     "output_type": "execute_result"
    }
   ],
   "source": [
    "#Slicing\n",
    "import numpy as np\n",
    "arr=([1,2,5,6,7])\n",
    "print(arr[1])\n",
    "arr[2:5]"
   ]
  },
  {
   "cell_type": "code",
   "execution_count": 3,
   "metadata": {},
   "outputs": [
    {
     "name": "stdout",
     "output_type": "stream",
     "text": [
      "[12 32 40]\n",
      "[ 1  5 12]\n",
      "128\n"
     ]
    }
   ],
   "source": [
    "#unary operations\n",
    "arr = np.array([[1,5, 12],\n",
    "                [2,32, 20],\n",
    "                [3, 40, 13]])\n",
    " \n",
    " \n",
    "print(arr.max(axis = 1))  # using columns\n",
    " \n",
    "print (arr.min(axis = 0))   #using rows\n",
    " \n",
    "print ( arr.sum())"
   ]
  },
  {
   "cell_type": "code",
   "execution_count": 9,
   "metadata": {},
   "outputs": [
    {
     "name": "stdout",
     "output_type": "stream",
     "text": [
      "[[5 5]\n",
      " [5 5]]\n",
      "[[4 6]\n",
      " [6 4]]\n",
      "[[0.25 0.67]\n",
      " [1.5  4.  ]]\n"
     ]
    }
   ],
   "source": [
    "#binary operations\n",
    "import numpy as np\n",
    " \n",
    "a = np.array([[1, 2],\n",
    "            [3, 4]])\n",
    "b = np.array([[4, 3],\n",
    "            [2, 1]])\n",
    " \n",
    "print (a + b)\n",
    "print (a*b)\n",
    "print (np.around(a/b,2))"
   ]
  },
  {
   "cell_type": "code",
   "execution_count": null,
   "metadata": {},
   "outputs": [],
   "source": [
    "1. Write a Python program to convert a list and tuple into Numpy arrays.\n",
    "\n",
    "List to array: [1 2 3 4 5 6 7 8] \n",
    "Tuple to array:\n",
    "[[8 4 6]  [1 2 3]]\n",
    "\n",
    "Discuss how the list and tuple differ from the arrays.\n",
    "\n",
    "2. Write a Python program to append values to the end of a Numpy array. \n",
    "\n",
    "Expected Output:\n",
    "Original array:\n",
    " [10, 20, 30] \n",
    "After append values to the end of the array:\n",
    "[10 20 30 40 50 60 70 80 90]\n",
    "NUMPY Arrays\n",
    "\n"
   ]
  }
 ],
 "metadata": {
  "kernelspec": {
   "display_name": "Python 3",
   "language": "python",
   "name": "python3"
  },
  "language_info": {
   "codemirror_mode": {
    "name": "ipython",
    "version": 3
   },
   "file_extension": ".py",
   "mimetype": "text/x-python",
   "name": "python",
   "nbconvert_exporter": "python",
   "pygments_lexer": "ipython3",
   "version": "3.6.10"
  }
 },
 "nbformat": 4,
 "nbformat_minor": 4
}
