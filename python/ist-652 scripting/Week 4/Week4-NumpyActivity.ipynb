{
 "cells": [
  {
   "cell_type": "code",
   "execution_count": 2,
   "metadata": {},
   "outputs": [
    {
     "name": "stdout",
     "output_type": "stream",
     "text": [
      "[[1 2 3]\n",
      " [4 5 6]]\n"
     ]
    }
   ],
   "source": [
    "import numpy as np\n",
    "a = np.array([[1,2,3], [4,5,6]])\n",
    "\n",
    "print(a)"
   ]
  },
  {
   "cell_type": "code",
   "execution_count": 27,
   "metadata": {},
   "outputs": [
    {
     "name": "stdout",
     "output_type": "stream",
     "text": [
      "[20.9 67.9 54.6]\n",
      "[21. 68. 55.]\n"
     ]
    }
   ],
   "source": [
    "#around function - rounding\n",
    "import numpy as np  \n",
    "arr = np.array([20.8999,67.89899,54.63409])  \n",
    "print(np.around(arr,1))\n",
    "print(np.around(arr,0))"
   ]
  },
  {
   "cell_type": "code",
   "execution_count": 5,
   "metadata": {},
   "outputs": [
    {
     "name": "stdout",
     "output_type": "stream",
     "text": [
      "[20. 67. 54.]\n"
     ]
    }
   ],
   "source": [
    "#floor function - integer value of number\n",
    "import numpy as np  \n",
    "arr = np.array([20.8,67.99,54.09])  \n",
    "print(np.floor(arr))"
   ]
  },
  {
   "cell_type": "code",
   "execution_count": 4,
   "metadata": {},
   "outputs": [
    {
     "name": "stdout",
     "output_type": "stream",
     "text": [
      "[21. 68. 55.]\n"
     ]
    }
   ],
   "source": [
    "#ceil function - integer value +1\n",
    "import numpy as np  \n",
    "arr = np.array([20.8,67.99,54.09])  \n",
    "print(np.ceil(arr))"
   ]
  },
  {
   "cell_type": "code",
   "execution_count": 3,
   "metadata": {},
   "outputs": [
    {
     "name": "stdout",
     "output_type": "stream",
     "text": [
      "[6 7 8 9]\n",
      "[-1  0  1  2]\n",
      "[10 20 30 40]\n",
      "[0.5 1.  1.5 2. ]\n"
     ]
    }
   ],
   "source": [
    "#Arithmetic operations\n",
    "import numpy as np\n",
    " \n",
    "a = np.array([1, 2, 3, 4])\n",
    " \n",
    "# add 5 to every element\n",
    "print ( a+5)\n",
    " \n",
    "# subtract 2 from each element\n",
    "print ( a-2)\n",
    " \n",
    "# multiply each element by 5 \n",
    "print (a*10)\n",
    " \n",
    "# divide each element by 2\n",
    "print ( a/2)"
   ]
  },
  {
   "cell_type": "code",
   "execution_count": 28,
   "metadata": {},
   "outputs": [
    {
     "name": "stdout",
     "output_type": "stream",
     "text": [
      "2\n"
     ]
    },
    {
     "data": {
      "text/plain": [
       "[5, 6, 7]"
      ]
     },
     "execution_count": 28,
     "metadata": {},
     "output_type": "execute_result"
    }
   ],
   "source": [
    "#Slicing\n",
    "import numpy as np\n",
    "arr=([1,2,5,6,7])\n",
    "print(arr[1])\n",
    "arr[2:5]"
   ]
  },
  {
   "cell_type": "code",
   "execution_count": 32,
   "metadata": {},
   "outputs": [
    {
     "name": "stdout",
     "output_type": "stream",
     "text": [
      "[12 32 40]\n",
      "[ 3 40 20]\n",
      "[ 1  5 12]\n",
      "[1 2 3]\n",
      "128\n"
     ]
    }
   ],
   "source": [
    "#unary operations\n",
    "arr = np.array([[1,5, 12],\n",
    "                [2,32, 20],\n",
    "                [3, 40, 13]])\n",
    " \n",
    " \n",
    "print(arr.max(axis = 1))  # using row\n",
    "print(arr.max(axis = 0))  # column\n",
    " \n",
    "print(arr.min(axis = 0))   #using column\n",
    "print(arr.min(axis = 1))   # row\n",
    " \n",
    "print ( arr.sum())"
   ]
  },
  {
   "cell_type": "code",
   "execution_count": 9,
   "metadata": {},
   "outputs": [
    {
     "name": "stdout",
     "output_type": "stream",
     "text": [
      "[[5 5]\n",
      " [5 5]]\n",
      "[[4 6]\n",
      " [6 4]]\n",
      "[[0.25 0.67]\n",
      " [1.5  4.  ]]\n"
     ]
    }
   ],
   "source": [
    "#binary operations\n",
    "import numpy as np\n",
    " \n",
    "a = np.array([[1, 2],\n",
    "            [3, 4]])\n",
    "b = np.array([[4, 3],\n",
    "            [2, 1]])\n",
    " \n",
    "print (a + b)\n",
    "print (a*b)\n",
    "print (np.around(a/b,2))"
   ]
  },
  {
   "cell_type": "code",
   "execution_count": null,
   "metadata": {},
   "outputs": [],
   "source": [
    "1. Write a Python program to convert a list and tuple into Numpy arrays.\n",
    "\n",
    "List to array: [1 2 3 4 5 6 7 8] \n",
    "Tuple to array:\n",
    "[[8 4 6]  [1 2 3]]\n",
    "\n",
    "Discuss how the list and tuple differ from the arrays.\n",
    "\n",
    "2. Write a Python program to append values to the end of a Numpy array. \n",
    "\n",
    "Expected Output:\n",
    "Original array:\n",
    " [10, 20, 30] \n",
    "After append values to the end of the array:\n",
    "[10 20 30 40 50 60 70 80 90]\n",
    "NUMPY Arrays\n",
    "\n"
   ]
  },
  {
   "cell_type": "code",
   "execution_count": 13,
   "metadata": {},
   "outputs": [
    {
     "name": "stdout",
     "output_type": "stream",
     "text": [
      "[1 2 3 4 5]\n",
      "[[ 1  2 13  2]\n",
      " [ 1  3  5  2]]\n",
      "[ 1  2  3  4  5  1  2 13  2  1  3  5  2]\n"
     ]
    }
   ],
   "source": [
    "import numpy as np\n",
    "mylist = [1,2,3,4,5]\n",
    "\n",
    "arrayA = np.asarray(mylist)\n",
    "\n",
    "print(arrayA)\n",
    "\n",
    "mytuple = ([1,2,13,2], [1,3,5,2])\n",
    "\n",
    "arrayB = np.asarray(mytuple)\n",
    "print(arrayB)\n",
    "\n",
    "\n",
    "arrayC = np.append(arrayA, arrayB)\n",
    "print(arrayC)"
   ]
  },
  {
   "cell_type": "code",
   "execution_count": 17,
   "metadata": {},
   "outputs": [
    {
     "name": "stdout",
     "output_type": "stream",
     "text": [
      "original list:  [10, 20, 30]\n",
      "[10 20 30 40 50 60 70 80 90]\n"
     ]
    }
   ],
   "source": [
    "import numpy as np\n",
    "x = [10,20,30]\n",
    "print(\"original list: \", x)\n",
    "\n",
    "myarry = np.append(x,[[40, 50, 60], [70, 80, 90]])\n",
    "\n",
    "print(myarry)\n",
    "\n"
   ]
  },
  {
   "cell_type": "code",
   "execution_count": 26,
   "metadata": {},
   "outputs": [
    {
     "data": {
      "text/plain": [
       "array([10, 20, 30])"
      ]
     },
     "execution_count": 26,
     "metadata": {},
     "output_type": "execute_result"
    }
   ],
   "source": [
    "myarry[0:3]"
   ]
  }
 ],
 "metadata": {
  "kernelspec": {
   "display_name": "Python 3",
   "language": "python",
   "name": "python3"
  },
  "language_info": {
   "codemirror_mode": {
    "name": "ipython",
    "version": 3
   },
   "file_extension": ".py",
   "mimetype": "text/x-python",
   "name": "python",
   "nbconvert_exporter": "python",
   "pygments_lexer": "ipython3",
   "version": "3.8.8"
  }
 },
 "nbformat": 4,
 "nbformat_minor": 4
}
