{
 "cells": [
  {
   "cell_type": "markdown",
   "metadata": {},
   "source": [
    "## Week 4.2 – Functions Activity\n",
    "\n",
    "\n",
    "# Exercise 1\n",
    "What will the following Python program print out?\n",
    "\n",
    "def fred():\n",
    "\n",
    "    print \"Zap\"\n",
    "\n",
    "def jane():\n",
    "\n",
    "    print \"ABC\"\n",
    "\n",
    "jane()\n",
    "\n",
    "fred()\n",
    "\n",
    "jane()\n",
    "\n",
    "* a) Zap ABC jane fred jane\n",
    "* b) Zap ABC Zap\n",
    "* c) ABC Zap jane\n",
    "* d) ABC Zap ABC\n",
    "* e) Zap Zap Zap\n",
    "\n",
    "Explain your answer:\n"
   ]
  },
  {
   "cell_type": "markdown",
   "metadata": {},
   "source": [
    "### Answer\n",
    "\n",
    "Print command is bad syntax for python 3.x, result would be syntax error but if using 2.x the answer is \n",
    "#### D) ABC Zap ABC\n",
    "\n",
    "The reason is because we are calling jane() which prints ABC, then calling fred() which prints Zap, then calling jane() again to print ABC.  \n",
    "The output would not be the name of the function itself, we are just calling it.\n",
    "\n"
   ]
  },
  {
   "cell_type": "markdown",
   "metadata": {},
   "source": [
    "## Exercise 2\n",
    "\n",
    "Rewrite the pay computation program that you created in Week 2 with time-and-ahalf for overtime and create a function called computepay that takes two\n",
    "parameters (hours and rate).\n",
    "\n",
    ">> Enter Hours: 45\n",
    "\n",
    ">> Enter Rate: 20\n",
    "\n",
    ">> Pay: 950.0"
   ]
  },
  {
   "cell_type": "code",
   "execution_count": 8,
   "metadata": {},
   "outputs": [
    {
     "name": "stdout",
     "output_type": "stream",
     "text": [
      "Pay: 475.00\n"
     ]
    }
   ],
   "source": [
    "#setup inputs\n",
    "hours = input(\"Enter Hours: \")\n",
    "rate = input(\"Enter Rate: \")\n",
    "\n",
    "#try the conversion to int, if error then user entered wrong format\n",
    "try:\n",
    "    hours = int(hours)\n",
    "    rate = int(rate)\n",
    "except:\n",
    "    print(\"Please enter hours and rate as numeric characters\")\n",
    "\n",
    "\n",
    "def computepay(h, r):\n",
    "    #get hours of over time\n",
    "    ot = h - 40\n",
    "    ot_pay = 0\n",
    "    #if overtime worked calculate overtime pay\n",
    "    if ot > 0:\n",
    "        #ot pay is ot hours * (rate * 1.5)\n",
    "        ot_pay = ot * (r * 1.5)\n",
    "    #calculate tttl pay, hours minus any over time(to not double count ot hours)\n",
    "    # time rate, add in any ot pay    \n",
    "    ttl_pay = ( (h-ot) * r ) + ot_pay\n",
    "    #return ttl_pay\n",
    "    return(ttl_pay)\n",
    "\n",
    "print(f\"Pay: {computepay(hours,rate):.2f}\")     "
   ]
  }
 ],
 "metadata": {
  "interpreter": {
   "hash": "c236fdc6bf382f7a4904d615b2c2d59dd399c4100baf8f3f73b16694efcbae7c"
  },
  "kernelspec": {
   "display_name": "Python 3.8.8 64-bit ('base': conda)",
   "language": "python",
   "name": "python3"
  },
  "language_info": {
   "codemirror_mode": {
    "name": "ipython",
    "version": 3
   },
   "file_extension": ".py",
   "mimetype": "text/x-python",
   "name": "python",
   "nbconvert_exporter": "python",
   "pygments_lexer": "ipython3",
   "version": "3.8.8"
  },
  "orig_nbformat": 4
 },
 "nbformat": 4,
 "nbformat_minor": 2
}
