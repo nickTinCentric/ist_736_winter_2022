{
 "cells": [
  {
   "cell_type": "markdown",
   "metadata": {},
   "source": [
    "Write a program which repeatedly reads numbers until the user enters 'done'. Once 'done' is entered, print out the total, count, and average of the numbers. If the user enters anything other than a number, detect their mistake using try and except and print an error message and skip to the next number.\n",
    "\n",
    "Submit your code and the results you got from running your program.\n",
    "\n",
    "Check a couple of your classmates to see what they did."
   ]
  },
  {
   "cell_type": "code",
   "execution_count": 4,
   "metadata": {},
   "outputs": [
    {
     "name": "stdout",
     "output_type": "stream",
     "text": [
      "1\n",
      "2\n",
      "1\n",
      "r\n",
      "please enter numbers only, unless done\n",
      "a\n",
      "please enter numbers only, unless done\n",
      "a\n",
      "please enter numbers only, unless done\n",
      "d\n",
      "please enter numbers only, unless done\n",
      "s\n",
      "please enter numbers only, unless done\n",
      "\n",
      "please enter numbers only, unless done\n",
      "d\n",
      "please enter numbers only, unless done\n",
      "a\n",
      "please enter numbers only, unless done\n",
      "done\n"
     ]
    }
   ],
   "source": [
    "run = True\n",
    "number_list = []\n",
    "number = 0\n",
    "    \n",
    "while run:\n",
    "    question = input(\"Enter a number please, to quit type done (all lower case)\")\n",
    "    print(question)\n",
    "    \n",
    "    \n",
    "    if question == 'done':\n",
    "        run = False\n",
    "        break\n",
    "    try:\n",
    "        number = int(question)\n",
    "    except:\n",
    "        print(\"please enter numbers only, unless done\")\n",
    "\n"
   ]
  }
 ],
 "metadata": {
  "interpreter": {
   "hash": "c236fdc6bf382f7a4904d615b2c2d59dd399c4100baf8f3f73b16694efcbae7c"
  },
  "kernelspec": {
   "display_name": "Python 3.8.8 64-bit ('base': conda)",
   "language": "python",
   "name": "python3"
  },
  "language_info": {
   "codemirror_mode": {
    "name": "ipython",
    "version": 3
   },
   "file_extension": ".py",
   "mimetype": "text/x-python",
   "name": "python",
   "nbconvert_exporter": "python",
   "pygments_lexer": "ipython3",
   "version": "3.8.8"
  },
  "orig_nbformat": 4
 },
 "nbformat": 4,
 "nbformat_minor": 2
}
