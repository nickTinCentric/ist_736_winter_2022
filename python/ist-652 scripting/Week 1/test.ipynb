{
 "cells": [
  {
   "cell_type": "markdown",
   "metadata": {},
   "source": [
    " Exercise 2: Again, suppose that there is a list of strings defined, called samples. \n",
    " Define the list so that some strings have only one or two characters and some strings have more than five. \n",
    " Write a loop that prints out all the strings whose length is greater than two and whose length is less than five. \n",
    " Samples = [‘at’, ‘book’, ‘c’, ‘dog’, ‘elephant’, ……] \n",
    " make a list with at least 10 entries with varying lengths. Then write your loop to use the list samples. Submit your list, your code, and an example run. Please combine files in a single text file for submission; include both code and responses.\n",
    "\n"
   ]
  },
  {
   "cell_type": "code",
   "execution_count": 10,
   "metadata": {},
   "outputs": [
    {
     "name": "stdout",
     "output_type": "stream",
     "text": [
      "nope\n",
      "dog\n",
      "soap\n",
      "bro\n"
     ]
    }
   ],
   "source": [
    "Samples = ['at', 'battery', 'category', 'nope', 'dog', 'yesterday', 'do', 'soap', 'bro' ,'joking']\n",
    "\n",
    "for sample in Samples:\n",
    "    if len(sample) > 2 and len(sample) < 5:\n",
    "        print(sample)"
   ]
  }
 ],
 "metadata": {
  "interpreter": {
   "hash": "8d6d60e82d91d1cdccc8d04debd0911ff91fd8552ad3883c6b23766674ae62d5"
  },
  "kernelspec": {
   "display_name": "Python 3.7.1 64-bit ('rstudio': conda)",
   "language": "python",
   "name": "python3"
  },
  "language_info": {
   "codemirror_mode": {
    "name": "ipython",
    "version": 3
   },
   "file_extension": ".py",
   "mimetype": "text/x-python",
   "name": "python",
   "nbconvert_exporter": "python",
   "pygments_lexer": "ipython3",
   "version": "3.7.1"
  },
  "orig_nbformat": 4
 },
 "nbformat": 4,
 "nbformat_minor": 2
}
