{
 "cells": [
  {
   "cell_type": "markdown",
   "metadata": {},
   "source": [
    "Question 2: Reading and processing data in a file\n",
    "\n",
    "For this question, you are to write a program that reads the data in the file state_satscores_2004.txt. Each line of this file has name of a state, mean Verbal SAT score, and mean Math SAT score.\n",
    "\n",
    "After reading the data,\n",
    "1. Print the state with the highest mean Verbal SAT score\n",
    "2. Print each state that has a mean Math SAT score greater than 500\n",
    "\n",
    "Submit the code and the output from your program.\n",
    "\n",
    "You may use the code developed for the NBA data as a template, but it is absolutely essential that you use appropriate variable names and that you write original comments for what your program does.\n",
    "\n",
    "If you prefer, you can write this program with a csv reader, using state_satscores_2004.tsv."
   ]
  },
  {
   "cell_type": "code",
   "execution_count": 33,
   "metadata": {},
   "outputs": [],
   "source": [
    "## Going to Try csv way\n",
    "import csv\n",
    "\n",
    "fileName = 'state_satscores_2004.tsv'"
   ]
  },
  {
   "cell_type": "code",
   "execution_count": 35,
   "metadata": {},
   "outputs": [
    {
     "name": "stderr",
     "output_type": "stream",
     "text": [
      "<ipython-input-35-97b23edd3170>:4: DeprecationWarning: 'U' mode is deprecated\n",
      "  with open(fileName, 'rU') as csvfile:\n"
     ]
    }
   ],
   "source": [
    "#create list\n",
    "stateScoreList = []\n",
    "\n",
    "#open file as csv and read each line\n",
    "with open(fileName, 'rU') as csvfile:\n",
    "    reader = csv.reader(csvfile, dialect='excel', delimiter='\\t')\n",
    "\n",
    "    for line in reader:\n",
    "        state_info ={}\n",
    "\n",
    "        #parse each portion of the line into a dictionary\n",
    "        state_info['state_name'] = line[0]\n",
    "        state_info['verbal_score'] = line[1]\n",
    "        state_info['math_score'] = line[2]\n",
    "\n",
    "        #store dictionary into lists\n",
    "        stateScoreList.append(state_info)\n",
    "\n",
    "csvfile.close()\n"
   ]
  },
  {
   "cell_type": "code",
   "execution_count": 71,
   "metadata": {},
   "outputs": [
    {
     "name": "stdout",
     "output_type": "stream",
     "text": [
      "State with the largest verbal SAT Score is South Dakota with the score of 594\n"
     ]
    }
   ],
   "source": [
    "##this section is for getting the max verbal_sat_score\n",
    "\n",
    "#create empty list to get all teh verbal_scores\n",
    "verbal_scores =[]\n",
    "#iterate and fill the list\n",
    "for line in stateScoreList:\n",
    "    verbal_scores.append(line.get('verbal_score'))\n",
    "\n",
    "#get the max verbal score\n",
    "max_verbal_score = max(verbal_scores)\n",
    "\n",
    "#iterate through the list of dictionaries and if the verbal score \n",
    "#matches then print\n",
    "for line in stateScoreList:\n",
    "    if line.get('verbal_score') == max_verbal_score:\n",
    "        print(\"State with the largest verbal SAT Score is\",line.get('state_name'),\"with the score of\", line.get('verbal_score'))"
   ]
  },
  {
   "cell_type": "code",
   "execution_count": 78,
   "metadata": {},
   "outputs": [
    {
     "name": "stdout",
     "output_type": "stream",
     "text": [
      "State with the largest math SAT Score is Iowa with the math score of 602\n"
     ]
    }
   ],
   "source": [
    "#do it again for math\n",
    "#create empty list\n",
    "math_scores = []\n",
    "#iterate and fill list\n",
    "for line in stateScoreList:\n",
    "    math_scores.append(line.get('math_score'))\n",
    "\n",
    "#get max math score\n",
    "max_math_score = max(math_scores)\n",
    "#print(max_math_score)\n",
    "\n",
    "#iterate again and compare max score if matches print\n",
    "for line in stateScoreList:\n",
    "    if line.get('math_score') == max_math_score:\n",
    "        print(\"State with the largest math SAT Score is\", line.get('state_name'),\"with the math score of\", line.get('math_score'))\n",
    "\n"
   ]
  }
 ],
 "metadata": {
  "interpreter": {
   "hash": "c236fdc6bf382f7a4904d615b2c2d59dd399c4100baf8f3f73b16694efcbae7c"
  },
  "kernelspec": {
   "display_name": "Python 3.8.8 64-bit ('base': conda)",
   "language": "python",
   "name": "python3"
  },
  "language_info": {
   "codemirror_mode": {
    "name": "ipython",
    "version": 3
   },
   "file_extension": ".py",
   "mimetype": "text/x-python",
   "name": "python",
   "nbconvert_exporter": "python",
   "pygments_lexer": "ipython3",
   "version": "3.8.8"
  },
  "orig_nbformat": 4
 },
 "nbformat": 4,
 "nbformat_minor": 2
}
