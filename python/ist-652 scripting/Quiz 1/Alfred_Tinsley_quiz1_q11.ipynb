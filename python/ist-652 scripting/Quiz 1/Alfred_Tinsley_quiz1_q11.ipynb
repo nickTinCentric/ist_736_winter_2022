{
 "cells": [
  {
   "cell_type": "markdown",
   "metadata": {},
   "source": [
    "## By Alfred Nick Tinsley\n",
    "## Quiz 1 question 11"
   ]
  },
  {
   "cell_type": "markdown",
   "metadata": {},
   "source": [
    "Suppose that you have a list of strings named examples. Write a Python loop that goes through the list and prints each string where the string length is three or more and the first and last characters of the strings are the same.\n",
    "\n",
    "Test your code on the following three versions of the list examples:\n",
    "* examples = ['abab', 'xyz', 'aa', 'x', 'bcb']\n",
    "* examples = ['', 'x', 'xy', 'xyx', 'xx']\n",
    "* examples = ['aaa', 'be', 'abc', 'hello']\n",
    "\n",
    "You may do this exercise either in the interpreter or in a program. Please submit your code and the output from the three examples."
   ]
  },
  {
   "cell_type": "code",
   "execution_count": 7,
   "metadata": {},
   "outputs": [],
   "source": [
    "#init lists\n",
    "#creating three seperate lists to pass through the function.\n",
    "examples1 = ['abab', 'xyz', 'aa', 'x', 'bcb']\n",
    "examples2 = ['', 'x', 'xy', 'xyx', 'xx']\n",
    "examples3 = ['aaa', 'be', 'abc', 'hello']\n"
   ]
  },
  {
   "cell_type": "code",
   "execution_count": 5,
   "metadata": {},
   "outputs": [],
   "source": [
    "#since i was going to repeat the steps with each loop, i decided to build a function to handle the looping and printing\n",
    "def my_loop(examples):\n",
    "    for example in examples:\n",
    "        if len(example) >= 3 and example[0] == example[-1]:\n",
    "            print(example)\n",
    "    "
   ]
  },
  {
   "cell_type": "code",
   "execution_count": 8,
   "metadata": {},
   "outputs": [
    {
     "name": "stdout",
     "output_type": "stream",
     "text": [
      "bcb\n",
      "xyx\n",
      "aaa\n"
     ]
    }
   ],
   "source": [
    "my_loop(examples1)\n",
    "my_loop(examples2)\n",
    "my_loop(examples3)"
   ]
  },
  {
   "cell_type": "markdown",
   "metadata": {},
   "source": [
    "## Output\n",
    "\n",
    "* bcb\n",
    "* xyx\n",
    "* aaa"
   ]
  }
 ],
 "metadata": {
  "interpreter": {
   "hash": "c236fdc6bf382f7a4904d615b2c2d59dd399c4100baf8f3f73b16694efcbae7c"
  },
  "kernelspec": {
   "display_name": "Python 3.8.8 64-bit ('base': conda)",
   "language": "python",
   "name": "python3"
  },
  "language_info": {
   "codemirror_mode": {
    "name": "ipython",
    "version": 3
   },
   "file_extension": ".py",
   "mimetype": "text/x-python",
   "name": "python",
   "nbconvert_exporter": "python",
   "pygments_lexer": "ipython3",
   "version": "3.8.8"
  },
  "orig_nbformat": 4
 },
 "nbformat": 4,
 "nbformat_minor": 2
}
