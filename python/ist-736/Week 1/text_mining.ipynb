{
 "cells": [
  {
   "cell_type": "code",
   "execution_count": 1,
   "metadata": {},
   "outputs": [
    {
     "name": "stdout",
     "output_type": "stream",
     "text": [
      "    id   age   height   weight   waist\n",
      "0  295    23     64.3    114.8    67.2\n"
     ]
    }
   ],
   "source": [
    "import pandas as pd\n",
    "\n",
    "myDataFrame = pd.read_csv('test.csv')\n",
    "\n",
    "print(myDataFrame.head())"
   ]
  },
  {
   "cell_type": "code",
   "execution_count": 2,
   "metadata": {},
   "outputs": [
    {
     "name": "stdout",
     "output_type": "stream",
     "text": [
      "Line is This is a test file for \n",
      "\n",
      "Now line is this is a test file for\n",
      "Line is reading in text via Python\n",
      "\n",
      "Now line is reading in text via python\n",
      "Line is i am not sure how to use this yet\n",
      "\n",
      "Now line is i am not sure how to use this yet\n",
      "Line is but will soon know.\n",
      "Now line is but will soon know.\n",
      "['this is a test file for', 'reading in text via python', 'i am not sure how to use this yet', 'but will soon know.']\n",
      "The final string is this is a test file forreading in text via pythoni am not sure how to use this yetbut will soon know.\n"
     ]
    }
   ],
   "source": [
    "import re\n",
    "\n",
    "myText = open('data_test.txt')\n",
    "\n",
    "myList = []\n",
    "\n",
    "for line in myText:\n",
    "    print(f\"Line is {line:s}\")\n",
    "    line = line.rstrip()\n",
    "    line = re.sub('!@#$-.', '', line)\n",
    "    line = re.sub('\\s+', ' ', line).strip()\n",
    "    line = line.strip('\\n')\n",
    "    line = line.lower()\n",
    "    print(f\"Now line is {line:s}\")\n",
    "    myList.append(line)\n",
    "    if re.search('mining', line):\n",
    "        print(\"yes\")\n",
    "\n",
    "print(myList)\n",
    "\n",
    "final = \"\".join(myList)\n",
    "print(f\"The final string is {final:s}\")"
   ]
  },
  {
   "cell_type": "code",
   "execution_count": 3,
   "metadata": {},
   "outputs": [],
   "source": [
    "myText.close()"
   ]
  },
  {
   "cell_type": "code",
   "execution_count": 13,
   "metadata": {},
   "outputs": [
    {
     "name": "stdout",
     "output_type": "stream",
     "text": [
      "['Hiking', 'is', 'fun', '!', 'Hiking', 'with', 'dogs', 'is', 'more', 'fun', ':', ')']\n",
      "Hiking:2\n",
      "is:2\n",
      "fun:2\n",
      "!:1\n",
      "with:1\n",
      "dogs:1\n",
      "more:1\n",
      "::1\n",
      "):1\n"
     ]
    },
    {
     "data": {
      "image/png": "[encoded data removed]",
      "text/plain": [
       "<Figure size 432x288 with 1 Axes>"
      ]
     },
     "metadata": {
      "needs_background": "light"
     },
     "output_type": "display_data"
    },
    {
     "data": {
      "text/plain": [
       "<AxesSubplot:xlabel='Samples', ylabel='Counts'>"
      ]
     },
     "execution_count": 13,
     "metadata": {},
     "output_type": "execute_result"
    }
   ],
   "source": [
    "import nltk\n",
    "from nltk.tokenize import word_tokenize\n",
    "\n",
    "# text = 'to be or not to be'\n",
    "\n",
    "# tokens = [t for t in text.split()]\n",
    "# print(tokens)\n",
    "\n",
    "# freq = nltk.FreqDist(tokens)\n",
    "\n",
    "# for key, val in freq.items():\n",
    "#     print(str(key) + ':' + str(val))\n",
    "\n",
    "# freq.plot(20, cumulative = False)\n",
    "\n",
    "mytext = 'Hiking is fun! Hiking with dogs is more fun :)'\n",
    "# print(word_tokenize(mytext))\n",
    "\n",
    "myTokens = word_tokenize(mytext)\n",
    "print(myTokens)\n",
    "myfreq = nltk.FreqDist(myTokens)\n",
    "for key, val in myfreq.items():\n",
    "    print(str(key) + ':' + str(val))\n",
    "myfreq.plot(20, cumulative=False)"
   ]
  },
  {
   "cell_type": "code",
   "execution_count": 23,
   "metadata": {},
   "outputs": [
    {
     "name": "stdout",
     "output_type": "stream",
     "text": [
      "['this', 'is', 'any', 'sentence', 'of', 'text', 'it', 'can', 'have', 'punctuation', ',', 'CAPS', '!', ',', 'etc', '.']\n"
     ]
    }
   ],
   "source": [
    "import nltk\n",
    "import pandas\n",
    "from sklearn.feature_extraction.text import CountVectorizer\n",
    "from nltk.tokenize import word_tokenize\n",
    "\n",
    "text = 'this is any sentence of text it can have punctuation, CAPS!, etc.'\n",
    "\n",
    "tokenized_word = word_tokenize(text)\n",
    "print(tokenized_word)\n",
    "\n",
    "\n"
   ]
  },
  {
   "cell_type": "code",
   "execution_count": 18,
   "metadata": {},
   "outputs": [
    {
     "name": "stdout",
     "output_type": "stream",
     "text": [
      "<FreqDist with 15 samples and 16 outcomes>\n",
      "[(',', 2)]\n",
      "[(',', 2), ('this', 1)]\n",
      "[(',', 2), ('this', 1), ('is', 1)]\n",
      "0.0625\n"
     ]
    },
    {
     "data": {
      "image/png": "[encoded data removed]",
      "text/plain": [
       "<Figure size 432x288 with 1 Axes>"
      ]
     },
     "metadata": {
      "needs_background": "light"
     },
     "output_type": "display_data"
    },
    {
     "data": {
      "text/plain": [
       "<AxesSubplot:xlabel='Samples', ylabel='Counts'>"
      ]
     },
     "execution_count": 18,
     "metadata": {},
     "output_type": "execute_result"
    }
   ],
   "source": [
    "from nltk.probability import FreqDist\n",
    "import matplotlib as plt\n",
    "\n",
    "fdist = FreqDist(tokenized_word)\n",
    "print(fdist)\n",
    "print(fdist.most_common(1))\n",
    "print(fdist.most_common(2))\n",
    "print(fdist.most_common(3))\n",
    "print(fdist.freq(\"is\"))\n",
    "\n",
    "fdist.N()\n",
    "\n",
    "fdist.plot(30, cumulative=False)\n",
    "# plt.show()\n"
   ]
  },
  {
   "cell_type": "code",
   "execution_count": 24,
   "metadata": {},
   "outputs": [
    {
     "name": "stdout",
     "output_type": "stream",
     "text": [
      "this\n",
      "is\n",
      "any\n",
      "sentence\n",
      "of\n",
      "text\n",
      "it\n",
      "can\n",
      "have\n",
      "punctuation\n",
      ",\n",
      "CAPS\n",
      "!\n",
      ",\n",
      "etc\n",
      ".\n",
      "Tokenized Word  ['this', 'is', 'any', 'sentence', 'of', 'text', 'it', 'can', 'have', 'punctuation', ',', 'CAPS', '!', ',', 'etc', '.']\n",
      "filtered text  ['sentence', 'text', 'punctuation', ',', 'CAPS', '!', ',', 'etc', '.']\n"
     ]
    }
   ],
   "source": [
    "from nltk.corpus import stopwords\n",
    "\n",
    "\n",
    "stop_words = set(stopwords.words('english'))\n",
    "\n",
    "filter_text = []\n",
    "\n",
    "for w in tokenized_word:\n",
    "    print(w)\n",
    "    if w not in stop_words:\n",
    "        filter_text.append(w)\n",
    "\n",
    "print(\"Tokenized Word \", tokenized_word)\n",
    "print(\"filtered text \", filter_text)"
   ]
  },
  {
   "cell_type": "code",
   "execution_count": 25,
   "metadata": {},
   "outputs": [
    {
     "name": "stdout",
     "output_type": "stream",
     "text": [
      "Filtered  ['sentence', 'text', 'punctuation', ',', 'CAPS', '!', ',', 'etc', '.']\n",
      "Stemmed ['sentenc', 'text', 'punctuat', ',', 'cap', '!', ',', 'etc', '.']\n"
     ]
    }
   ],
   "source": [
    "from nltk.stem import PorterStemmer\n",
    "from nltk.tokenize import sent_tokenize, word_tokenize\n",
    "\n",
    "ps = PorterStemmer()\n",
    "\n",
    "stemmed_words = []\n",
    "for w in filter_text:\n",
    "    stemmed_words.append(ps.stem(w))\n",
    "\n",
    "print(\"Filtered \", filter_text)\n",
    "print(\"Stemmed\", stemmed_words)\n",
    "\n",
    "\n",
    "\n",
    "\n",
    "\n"
   ]
  },
  {
   "cell_type": "code",
   "execution_count": null,
   "metadata": {},
   "outputs": [],
   "source": []
  }
 ],
 "metadata": {
  "interpreter": {
   "hash": "c236fdc6bf382f7a4904d615b2c2d59dd399c4100baf8f3f73b16694efcbae7c"
  },
  "kernelspec": {
   "display_name": "Python 3.8.8 64-bit ('base': conda)",
   "language": "python",
   "name": "python3"
  },
  "language_info": {
   "codemirror_mode": {
    "name": "ipython",
    "version": 3
   },
   "file_extension": ".py",
   "mimetype": "text/x-python",
   "name": "python",
   "nbconvert_exporter": "python",
   "pygments_lexer": "ipython3",
   "version": "3.8.8"
  },
  "orig_nbformat": 4
 },
 "nbformat": 4,
 "nbformat_minor": 2
}
