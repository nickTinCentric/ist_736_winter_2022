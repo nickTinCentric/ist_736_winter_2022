{
 "cells": [
  {
   "cell_type": "code",
   "execution_count": null,
   "metadata": {},
   "outputs": [],
   "source": [
    "# tf(t,d) = count of t in d / number of words in d\n",
    "\n",
    "\n",
    "# df(t) = occurrence of t in documents\n",
    "\n",
    "\n",
    "# tf-idf(t, d) = tf(t, d) * idf(t)\n",
    "\n",
    "# “Macao Chinese Japan Shanghai Syracuse.”"
   ]
  },
  {
   "cell_type": "markdown",
   "metadata": {},
   "source": [
    "how to calcuclate manually\n",
    "\n",
    "10,000,000 documents \n",
    "Syracuse is in 1000 of them\n",
    "XYZ with 100 words Syracuse is 3 times\n",
    "\n",
    "log(base10)\n",
    "\n",
    "\n"
   ]
  },
  {
   "cell_type": "code",
   "execution_count": 1,
   "metadata": {},
   "outputs": [
    {
     "name": "stdout",
     "output_type": "stream",
     "text": [
      "0.0001\n"
     ]
    }
   ],
   "source": [
    "numDocs = 10000000\n",
    "syracuse = 1000\n",
    "\n",
    "\n",
    "freq = syracuse / numDocs\n",
    "print(freq)"
   ]
  },
  {
   "cell_type": "code",
   "execution_count": 3,
   "metadata": {},
   "outputs": [
    {
     "name": "stdout",
     "output_type": "stream",
     "text": [
      "0.03\n"
     ]
    }
   ],
   "source": [
    "one_doc = 3/100\n",
    "print(one_doc)"
   ]
  },
  {
   "cell_type": "code",
   "execution_count": 7,
   "metadata": {},
   "outputs": [
    {
     "name": "stdout",
     "output_type": "stream",
     "text": [
      "0.0033333333333333335\n",
      "-2.4771212547196626\n"
     ]
    }
   ],
   "source": [
    "print(freq/one_doc)\n",
    "\n",
    "import math as mth\n",
    "\n",
    "test = mth.log10(freq/one_doc)\n",
    "print(test)\n"
   ]
  }
 ],
 "metadata": {
  "interpreter": {
   "hash": "c236fdc6bf382f7a4904d615b2c2d59dd399c4100baf8f3f73b16694efcbae7c"
  },
  "kernelspec": {
   "display_name": "Python 3.8.8 64-bit ('base': conda)",
   "language": "python",
   "name": "python3"
  },
  "language_info": {
   "codemirror_mode": {
    "name": "ipython",
    "version": 3
   },
   "file_extension": ".py",
   "mimetype": "text/x-python",
   "name": "python",
   "nbconvert_exporter": "python",
   "pygments_lexer": "ipython3",
   "version": "3.8.8"
  },
  "orig_nbformat": 4
 },
 "nbformat": 4,
 "nbformat_minor": 2
}
