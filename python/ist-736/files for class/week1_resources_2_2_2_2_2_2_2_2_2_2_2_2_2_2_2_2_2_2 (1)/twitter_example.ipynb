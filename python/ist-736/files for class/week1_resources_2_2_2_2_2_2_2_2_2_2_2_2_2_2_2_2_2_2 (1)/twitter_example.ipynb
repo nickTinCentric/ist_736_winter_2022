{
 "cells": [
  {
   "cell_type": "code",
   "execution_count": 3,
   "metadata": {},
   "outputs": [],
   "source": [
    "import tweepy\n",
    "#conda install -c conda-forge tweepy\n",
    "from tweepy import OAuthHandler\n",
    "import json\n",
    "from tweepy import Stream\n",
    "# from tweepy.streaming import StreamListener\n",
    "import sys"
   ]
  }
 ],
 "metadata": {
  "interpreter": {
   "hash": "8d6d60e82d91d1cdccc8d04debd0911ff91fd8552ad3883c6b23766674ae62d5"
  },
  "kernelspec": {
   "display_name": "Python 3.7.1 ('rstudio')",
   "language": "python",
   "name": "python3"
  },
  "language_info": {
   "codemirror_mode": {
    "name": "ipython",
    "version": 3
   },
   "file_extension": ".py",
   "mimetype": "text/x-python",
   "name": "python",
   "nbconvert_exporter": "python",
   "pygments_lexer": "ipython3",
   "version": "3.8.8"
  },
  "orig_nbformat": 4
 },
 "nbformat": 4,
 "nbformat_minor": 2
}
